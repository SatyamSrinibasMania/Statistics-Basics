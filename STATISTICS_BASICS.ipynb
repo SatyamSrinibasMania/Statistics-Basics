{
  "nbformat": 4,
  "nbformat_minor": 0,
  "metadata": {
    "colab": {
      "provenance": []
    },
    "kernelspec": {
      "name": "python3",
      "display_name": "Python 3"
    },
    "language_info": {
      "name": "python"
    }
  },
  "cells": [
    {
      "cell_type": "markdown",
      "source": [
        "#**STATISTICS BASICS**"
      ],
      "metadata": {
        "id": "ElO3POTrdjdJ"
      }
    },
    {
      "cell_type": "markdown",
      "source": [
        "**THEORITICAL QUESTIONS**"
      ],
      "metadata": {
        "id": "JHqwm6HtdlgY"
      }
    },
    {
      "cell_type": "markdown",
      "source": [
        "**1. What is statistics, and why is it important ?**\n",
        "\n",
        "- **Statistics** is the branch of mathematics that deals with collecting, organizing, analyzing, interpreting, and presenting data. It helps us make sense of large amounts of information and draw meaningful conclusions.\n",
        "\n",
        "- **Why Statistics is important :**\n",
        " - **Decision-Making :** It provides a scientific basis for decisions in business, healthcare, government, and more.\n",
        "\n",
        " - **Understanding Trends :** Helps identify patterns and trends in data, such as customer behavior or disease spread.\n",
        "\n",
        " - **Risk Management :** Assists in assessing probabilities and making informed risk-based choices.\n",
        "\n",
        " - **Research Validation :** Essential in scientific research to test hypotheses and validate findings.\n",
        "\n",
        " - **Public Policy :** Guides policy-making by providing evidence on population health, economics, and education."
      ],
      "metadata": {
        "id": "XvRXVcQkd_3w"
      }
    },
    {
      "cell_type": "markdown",
      "source": [
        "**2. What are the two main types of statistics ?**\n",
        "\n",
        "- The two main types of statistics are :\n",
        " - **Descriptive Statistics :** This type summarizes and organizes data using measures such as mean, median, mode, range, and standard deviation, as well as visual tools like charts and graphs.\n",
        "\n",
        " - **Example :** Imagine we have the following test scores for 10 students in a class : 70, 75, 80, 85, 90, 95, 100, 65, 60, 85\n",
        "   - Descriptive statistics might include :\n",
        "     - **Mean (Average) :** (70 + 75 + 80 + 85 + 90 + 95 + 100 + 65 + 60 + 85) ÷ 10 = 805 ÷ 10 = 80.5\n",
        "\n",
        "     - **Median :** The middle value when the data is ordered: 75, 80, 85, 85, 90, 95, 100, 65, 70, 60 → Median = 85.\n",
        "    \n",
        "     - **Mode :** The value that appears most often, which is 85 (it appears twice).\n",
        "\n",
        "     - **Range :** The difference between the highest and lowest values, 100 - 60 = 40.\n",
        "\n",
        "     - **Standard Deviation :** A measure of how spread out the scores are from the mean (it requires more calculations, but gives insight into variability).\n",
        "\n",
        " - **Inferential Statistics :** This type uses a sample of data to make predictions, estimates, or generalizations about a larger population, often using probability theory and hypothesis testing.\n",
        "\n",
        " - **Example :** Suppose we're studying the average height of adult women in a country, but we don’t have access to the entire population. Instead, we randomly select a sample of 200 women from a city.\n",
        "\n",
        "   - We use inferential statistics to make predictions or draw conclusions about the entire population. For example :\n",
        "\n",
        "     - We calculate the sample's **mean height** (say, 5'4\").\n",
        "\n",
        "     - We then use this data to **infer** that the average height of adult women in the entire country is likely close to 5'4\", with some margin of error based on sample size and variability.\n",
        "\n",
        "     - We may also perform **hypothesis testing** to see if the average height of women in our sample is significantly different from the national average, or calculate a **confidence interval** to give a range of values within which the true population mean is likely to fall.\n",
        "\n",
        "- These are how both types of statistics work to help us understand and make conclusions from data.\n"
      ],
      "metadata": {
        "id": "SyBcWDpAd_wB"
      }
    },
    {
      "cell_type": "markdown",
      "source": [
        "**3. What are descriptive statistics ?**\n",
        "- **Descriptive statistics** are a set of techniques used to summarize, organize, and present data in a meaningful way. The goal is to describe the main features of a dataset, often through numerical measures or visual representations. Descriptive statistics help simplify large amounts of data into a few key pieces of information, making it easier to understand patterns, trends, and relationships.\n",
        "\n",
        "- **There are several key components of descriptive statistics :**\n",
        "\n",
        "  - **Measures of Central Tendency :**\n",
        "    \n",
        "    - **Mean :** The average of all data points. It’s calculated by adding all values and dividing by the number of values.\n",
        "\n",
        "     - Example : If we have test scores of 80, 85, and 90, the mean is (80 + 85 + 90) ÷ 3 = 85.\n",
        "\n",
        "    - **Median :** The middle value in a dataset when the values are ordered from lowest to highest. If there is an even number of data points, the median is the average of the two middle values.\n",
        "\n",
        "     - Example : For scores 60, 70, 80, 85, 90, the median is 80 (the middle value).\n",
        "\n",
        "    - **Mode :** The value that appears most frequently in the dataset.\n",
        "\n",
        "     - Example : In the dataset 70, 80, 80, 90, 95, the mode is 80.\n",
        "\n",
        " - **Measures of Dispersion (or Spread) :**\n",
        "\n",
        "   - **Range :**  The difference between the highest and lowest values in the dataset.\n",
        "\n",
        "     - Example : For scores 60, 70, 80, 90, the range is 90 - 60 = 30.\n",
        "\n",
        "   - **Variance :** Measures the average degree to which each data point differs from the mean. It gives a sense of how spread out the data is, but it is in squared units of the data.\n",
        "\n",
        "   - **Standard Deviation :** The square root of the variance. It also measures how much the data deviates from the mean, but in the same units as the original data, making it easier to interpret.\n",
        "\n",
        "     - **Example :** A high standard deviation indicates that the data points are spread out widely from the mean, while a low standard deviation suggests that the data points are clustered close to the mean.\n",
        "\n",
        " - **Visual Representations :**\n",
        "\n",
        "   - **Histograms :** Graphs that show the frequency distribution of data.\n",
        "\n",
        "   - **Box Plots :** Used to visually display the distribution of data based on five summary statistics : minimum, first quartile (Q1), median, third quartile (Q3), and maximum.\n",
        "\n",
        "   - **Bar Charts and Pie Charts :** Useful for showing categorical data or the frequency of different categories.\n",
        "\n",
        "- **Descriptive statistics** give us a clear and concise overview of our data, helping us understand its main characteristics before making deeper analyses or predictions."
      ],
      "metadata": {
        "id": "9wOY_63vd_ho"
      }
    },
    {
      "cell_type": "markdown",
      "source": [
        "**4. What is inferential statistics ?**\n",
        "- **Inferential statistics** involves using a sample of data to make conclusions, predictions, or generalizations about a larger population. Unlike descriptive statistics, which simply summarize and describe data, inferential statistics allow us to make inferences about a population based on a smaller subset (sample) of that population.\n",
        "\n",
        "- The key idea is to draw conclusions that extend beyond the immediate data at hand. Here are the core components and methods of inferential statistics :\n",
        "\n",
        " - **Sampling :**\n",
        "\n",
        "   - **Population vs. Sample :** In inferential statistics, we typically don’t collect data from the entire population (which might be impractical or impossible). Instead, we collect data from a sample—a smaller, representative group drawn from the population.\n",
        "\n",
        "   - **Random Sampling :** This ensures that every member of the population has an equal chance of being selected, reducing bias in the sample.\n",
        "\n",
        " - **Hypothesis Testing :**\n",
        "\n",
        "   - **Null Hypothesis (H₀) :** The assumption that there is no effect or difference in the population.\n",
        "\n",
        "   - **Alternative Hypothesis (H₁) :** The assumption that there is a significant effect or difference in the population.\n",
        "\n",
        "   - **P-value :** A measure of the evidence against the null hypothesis. If the p-value is small (typically below 0.05), we reject the null hypothesis in favor of the alternative hypothesis.\n",
        "\n",
        "   - **Example :** Suppose we want to know if a new drug lowers blood pressure. The null hypothesis might be \"The drug has no effect on blood pressure,\" and we would collect data from a sample of patients and use statistical tests to see if the drug significantly lowers blood pressure.\n",
        "\n",
        " - **Confidence Intervals :**\n",
        "\n",
        "   - **Confidence Interval (CI) :** A range of values, derived from a sample, that is likely to contain the true population parameter. For example, a 95% confidence interval means we can be 95% confident that the true population parameter falls within that range.\n",
        "\n",
        "   - **Example :** If the mean height of a sample of 100 women is 5'4\" with a 95% confidence interval of 5'3\" to 5'5\", we can be 95% confident that the true average height of all women in the population lies between 5'3\" and 5'5\".\n",
        "\n",
        " - **Regression Analysis :**\n",
        "   - **Linear Regression :** This method examines the relationship between two or more variables. For example, we might use regression analysis to predict someone's weight based on their height.\n",
        "\n",
        "   - **Example :** A study could use regression to predict house prices based on factors like square footage, number of rooms, and location.\n",
        "\n",
        " - **Analysis of Variance (ANOVA) :**\n",
        "   - **ANOVA** tests whether there are statistically significant differences between the means of three or more groups.\n",
        "\n",
        "   - **Example :** We might use ANOVA to test if different teaching methods lead to different average test scores among several groups of students.\n",
        "\n",
        "- **Key Concepts in Inferential Statistics :**\n",
        " - **Sampling Error :** The difference between a sample statistic and the corresponding population parameter, due to the fact that the sample is only a subset of the population.\n",
        "\n",
        " - **Probability :** Inferential statistics often rely on probability theory to make inferences about the population based on sample data.\n",
        "\n",
        "- **Example of Inferential Statistics :**\n",
        " - **Scenario :** Suppose we are a researcher interested in the average salary of workers in a large city. Since it's impractical to survey every worker, we randomly select a sample of 200 workers, calculate their average salary, and then use that sample mean to infer the average salary for all workers in the city. Using inferential statistics, we could also construct a confidence interval to express the range within which the true population average salary likely falls.\n",
        "\n",
        "- In short, **Inferential statistics** are used to make predictions and test hypotheses about a population, using sample data. It enables researchers to go beyond the data they’ve collected and make conclusions that are applicable to a larger group or even to the general population."
      ],
      "metadata": {
        "id": "wxR-v4lqd_MY"
      }
    },
    {
      "cell_type": "markdown",
      "source": [
        "**5. What is sampling in statistics ? **\n",
        "- **Sampling** in statistics is the process of selecting a subset (sample) from a larger population to gather data and make inferences about that population. Since it’s often impractical or impossible to collect data from an entire population, sampling allows researchers to draw conclusions about the population based on a smaller group that represents it.\n",
        "\n",
        "- **Key Concepts in Sampling :**\n",
        " - **Population vs. Sample :**\n",
        "   - **Population :** The entire group we're interested in studying. It can be large (e.g., all voters in a country, all employees in a company, or all students in a school).\n",
        "\n",
        "   - **Sample :** A smaller, manageable subset of the population that is selected for the study. The sample is used to estimate characteristics of the population.\n",
        "\n",
        " - **Sampling Error :**\n",
        "   - **Sampling Error** is the natural difference between the sample statistic (e.g., sample mean) and the actual population parameter (e.g., population mean). The error occurs because the sample is only a portion of the population.\n",
        "\n",
        " - **Random Sampling :**\n",
        "   - **Random Sampling** ensures that every individual in the population has an equal chance of being selected. This reduces bias and helps the sample represent the population more accurately.\n",
        "\n",
        " - **Representative Sample :**\n",
        "   - A **representative sample** closely mirrors the characteristics of the population, ensuring that conclusions drawn from the sample are applicable to the entire population.\n",
        "\n",
        "- **Why Sampling is important :**\n",
        " - **Cost-Effective :** Collecting data from an entire population can be time-consuming and expensive. Sampling allows researchers to gather data more efficiently.\n",
        "\n",
        " - **Feasibility :** In many cases, it’s impossible to study the entire population (e.g., all the animals in a large forest or all the products manufactured by a factory). Sampling provides a practical solution.\n",
        "\n",
        " - **Accuracy and Generalization :** When done correctly, sampling allows researchers to make valid inferences about a population based on the sample.\n",
        "\n",
        "- **Example of Sampling :**\n",
        " - Imagine a company wants to know the average satisfaction level of its customers. It’s impractical to survey every customer, so they randomly select 200 customers from a list of 10,000 customers. The satisfaction survey results from the 200 customers serve as an estimate of the satisfaction level for the entire population of 10,000 customers.\n",
        "\n",
        "- In short, **sampling** is a crucial method in statistics that allows researchers to study smaller groups to make conclusions about larger populations, saving time, effort, and resources."
      ],
      "metadata": {
        "id": "PDjMe5ybd--5"
      }
    },
    {
      "cell_type": "markdown",
      "source": [
        "**6. What are the different types of sampling methods ?**\n",
        "\n",
        "- There are several types of sampling methods used in statistics to select a subset (sample) from a larger population. Each method has its strengths and weaknesses, and the choice of method depends on the research objectives, population size, and available resources. Below are the main types of sampling methods :\n",
        "\n",
        " - **Simple Random Sampling :**\n",
        "   - **Description :** Every member of the population has an equal chance of being selected. This method ensures that the sample is unbiased and representative of the population.\n",
        "\n",
        "   - **How it works :** We can select individuals randomly using methods like drawing lots, using a random number generator, or a random sampling tool.\n",
        "\n",
        "   - **Example :** If we have a list of 1,000 students, we randomly select 100 students using a random number generator.\n",
        "\n",
        "   - **Advantages :**\n",
        "     - Simple and easy to execute.\n",
        "     - Every member has an equal chance of selection.\n",
        "\n",
        "   - **Disadvantages :**\n",
        "     - Can be inefficient if the population is large.\n",
        "     - May not be representative if the sample size is too small.\n",
        "\n",
        " - **Stratified Sampling :**\n",
        "   - **Description :** The population is divided into distinct subgroups (called **strata**) based on a characteristic (such as age, gender, or income), and then a random sample is taken from each subgroup.\n",
        "\n",
        "   - **How it works :** Stratified sampling ensures that specific subgroups are represented in the sample.\n",
        "\n",
        "   - **Example :** In a population of 1,000 employees, we could divide them into strata by department (e.g., marketing, sales, engineering) and then randomly select employees from each department.\n",
        "\n",
        "   - **Advantages :**\n",
        "     - Ensures that all subgroups of the population are represented.\n",
        "\n",
        "     - Can produce more accurate and precise estimates than simple random sampling when there are significant differences between subgroups.\n",
        "\n",
        "   - **Disadvantages :**\n",
        "     - Requires detailed information about the population to form the strata.\n",
        "\n",
        "     - More complex to implement than simple random sampling.\n",
        "\n",
        " - **Systematic Sampling :**\n",
        "\n",
        "   - **Description :** We select every k-th member from a list or population, where k is a fixed interval, starting from a randomly chosen point.\n",
        "\n",
        "   - **How it works :** If we have a list of 1,000 individuals and want to select a sample of 100, we would select every 10th person from the list after randomly choosing a starting point.\n",
        "\n",
        "   - **Example :** If we want to survey 50 employees from a list of 500, and we decide on an interval of 10, we’d randomly choose a starting point (say the 3rd person) and then select every 10th person after that.\n",
        "\n",
        "   - **Advantages :**\n",
        "     - Simple to use and easy to implement.\n",
        "\n",
        "     - Can be more efficient than simple random sampling when the population is ordered.\n",
        "\n",
        "   - **Disadvantages :**\n",
        "     - Can introduce bias if there is a pattern in the population that coincides with the interval.\n",
        "\n",
        "     - Not as random as simple random sampling.\n",
        "\n",
        " - **Cluster Sampling :**\n",
        "   - **Description :** The population is divided into clusters, which are often naturally occurring groups (such as geographic locations or schools). A few clusters are randomly selected, and then all members within those clusters are surveyed.\n",
        "\n",
        "   - **How it works :** This is often used when it's difficult to create a complete list of the population. The selected clusters represent the population.\n",
        "\n",
        "   - **Example :** A researcher might want to study the literacy rate in a country, so they randomly select several cities and survey all individuals within those cities.\n",
        "\n",
        "   - **Advantages :**\n",
        "     - Cost-effective and convenient, especially when dealing with large populations spread out geographically.\n",
        "\n",
        "     - Useful when a complete list of the population is unavailable.\n",
        "\n",
        "   - **Disadvantages :**\n",
        "     - Can result in less precise estimates if the clusters are not homogeneous.\n",
        "\n",
        "     - May introduce sampling bias if clusters are not representative of the population.\n",
        "\n",
        " - **Convenience Sampling :**\n",
        "   - **Description :** A non-random sampling method where individuals are selected based on their availability or ease of access.\n",
        "\n",
        "   - **How it works :** The researcher selects a sample from people who are easiest to reach or most convenient to contact.\n",
        "\n",
        "   - **Example :** Surveying customers at a store who are willing to participate, or interviewing people on the street who are nearby.\n",
        "\n",
        "   - **Advantages :**\n",
        "     - Easy and inexpensive to implement.\n",
        "\n",
        "     - Can be useful for exploratory research or when resources are limited.\n",
        "\n",
        "   - **Disadvantages :**\n",
        "     - Highly prone to bias.\n",
        "\n",
        "     - The sample may not be representative of the population, leading to unreliable or ungeneralizable results.\n",
        "\n",
        " - **Quota Sampling :**\n",
        "   - **Description :** The researcher divides the population into subgroups and then selects participants non-randomly from each subgroup to meet a specific quota.\n",
        "\n",
        "   - **How it works :** Similar to stratified sampling, but instead of randomly sampling within strata, we choose a set number (quota) of individuals from each subgroup.\n",
        "\n",
        "   - **Example :** A researcher may decide to survey 50 men and 50 women, ensuring that both genders are equally represented in the sample.\n",
        "\n",
        "   - **Advantages :**\n",
        "     - Ensures that certain subgroups are represented in the sample.\n",
        "\n",
        "     - Easier to conduct than stratified sampling.\n",
        "\n",
        "   - **Disadvantages :**\n",
        "     - Can introduce bias if the selection process within each group is not random.\n",
        "\n",
        "     - Not as statistically rigorous as random sampling.\n",
        "\n",
        " - **Snowball Sampling :**\n",
        "   - **Description :** A non-random sampling method often used for hard-to-reach or hidden populations. Current participants refer other participants, and the sample grows \"like a snowball.\"\n",
        "\n",
        "   - **How it works :** After selecting an initial participant, they help recruit more participants who meet the criteria, and this process continues.\n",
        "\n",
        "   - **Example :** This method is often used in research on sensitive topics (e.g., drug users, homeless populations), where participants help find others who meet the same criteria.\n",
        "\n",
        "   - **Advantages :**\n",
        "     - Useful for studying populations that are difficult to access.\n",
        "\n",
        "     - Can help researchers access participants who would otherwise be hard to identify.\n",
        "\n",
        "   - **Disadvantages :**\n",
        "     - The sample may not be representative of the entire population.\n",
        "     \n",
        "     - Can introduce bias, as participants may refer individuals with similar characteristics.\n",
        "\n",
        "- Choosing the right sampling method depends on the study's goals, available resources, and the population being studied. Each method has its strengths and limitations, so it’s important to consider these factors when designing a study."
      ],
      "metadata": {
        "id": "kBIdcFG7zo1g"
      }
    },
    {
      "cell_type": "markdown",
      "source": [
        "**7. What is the difference between random and non-random sampling ?**\n",
        "- The difference between **random sampling** and **non-random sampling** lies in how the sample is selected from the population. Here’s a breakdown of the key differences :\n",
        "\n",
        "- **Random Sampling :**\n",
        " - In random sampling, every individual in the population has an equal chance of being selected for the sample. It’s a **probability-based** method, where each selection is made randomly, ensuring that the sample is representative of the population.\n",
        "\n",
        " - **Key Characteristics :**\n",
        "  - **Equal Chance :** Every individual has an equal opportunity to be chosen.\n",
        "\n",
        "  - **Unbiased Selection :** Since the selection is random, there is no human bias in the process.\n",
        "\n",
        "  - **Types :** Includes methods like **Simple Random Sampling**, **Stratified Sampling**, **Systematic Sampling**, and **Cluster Sampling**.\n",
        "\n",
        " - **Advantages :**\n",
        "   - Reduces selection bias and ensures that the sample is representative of the population.\n",
        "   \n",
        "   - Results can be generalized to the larger population.\n",
        "\n",
        " - **Disadvantages :**\n",
        "   - Can be time-consuming and expensive, especially with large populations.\n",
        "\n",
        "   - Requires a complete list of the population (which may not always be available).\n",
        "\n",
        " - **Example of Random Sampling :**\n",
        "   - Drawing names from a hat or using a random number generator to select participants from a list.\n",
        "\n",
        "- **Non-Random Sampling :**\n",
        " - In non-random sampling, individuals are selected based on criteria other than pure chance. This method includes a **selection bias**, meaning that the sample may not be fully representative of the population.\n",
        "\n",
        " - **Key Characteristics :**\n",
        "   - **Selective Choice :** Individuals are selected based on convenience, researcher’s discretion, or a specific characteristic, rather than random chance.\n",
        "\n",
        "   - **Bias Potential :** There’s a greater risk of bias because the selection process is not random, which can affect the representativeness of the sample.\n",
        "\n",
        "   - **Types :** Includes methods like **Convenience Sampling**, **Quota Sampling**, **Judgmental Sampling**, and **Snowball Sampling**.\n",
        "\n",
        " - **Advantages :**\n",
        "   - Easier and quicker to implement.\n",
        "\n",
        "   - Useful when random sampling is not feasible or when the population is hard to access.\n",
        "\n",
        " - **Disadvantages :**\n",
        "   - The sample may not represent the broader population, leading to biased results.\n",
        "\n",
        "   - Results from non-random samples often can't be generalized to the entire population.\n",
        "\n",
        " - **Example of Non-Random Sampling :**\n",
        "   - Surveying people who happen to be at a specific location, like outside a coffee shop (convenience sampling), or asking a few experts to choose participants based on their judgment (judgmental sampling).\n",
        "\n",
        "- In essence, **random sampling** aims to provide a sample that is as representative and unbiased as possible, while **non-random sampling** may involve selection methods that are quicker or more convenient but often come with increased risk of bias and reduced generalizability."
      ],
      "metadata": {
        "id": "7gj24xnYBlC9"
      }
    },
    {
      "cell_type": "markdown",
      "source": [
        "**8. Define and give examples of qualitative and quantitative data.**\n",
        "- **Qualitative data** and **quantitative data** are two major types of data used in statistics, and they differ in the nature of the information they represent.\n",
        "\n",
        "- **Qualitative Data (Categorical Data) :**\n",
        " - Qualitative data refers to non-numeric data that describes qualities or characteristics. It can be divided into categories or groups based on attributes or labels. This type of data is often descriptive and helps to identify patterns or qualities within a population, but it doesn't have a numerical value.\n",
        "\n",
        "   - **Types :**\n",
        "     - **Nominal Data :** Data that consists of categories without any order (e.g., colors, brands, types of animals).\n",
        "\n",
        "     - **Ordinal Data :** Data that consists of categories with a defined order but no specific difference in magnitude (e.g., rankings, satisfaction levels).\n",
        "\n",
        "    - **Examples :**\n",
        "      - **Nominal Data :** Colors of cars in a parking lot (red, blue, green, black).\n",
        "      \n",
        "      - Types of fruits (apple, banana, orange).\n",
        "\n",
        "      - **Ordinal Data :** Educational levels (high school, college, graduate).\n",
        "      \n",
        "      - Movie ratings (poor, fair, good, excellent).\n",
        "\n",
        "    - **Advantages :**\n",
        "     - Can describe characteristics or qualities of data.\n",
        "\n",
        "     - Useful for grouping or classifying information.\n",
        "\n",
        "    - **Disadvantages :**\n",
        "      - Cannot perform mathematical operations (like addition or subtraction) on qualitative data.\n",
        "\n",
        "- **Quantitative Data (Numerical Data) :**\n",
        " - Quantitative data refers to numeric data that can be measured and expressed in numbers. This type of data can be used for mathematical and statistical operations, such as addition, subtraction, averaging, etc. Quantitative data can be either discrete (countable) or continuous (measurable).\n",
        "\n",
        "   - **Types :**\n",
        "     - **Discrete Data :** Data that consists of distinct, separate values (e.g., number of children, number of cars).\n",
        "\n",
        "     - **Continuous Data :** Data that can take any value within a given range and is typically measured (e.g., height, weight, temperature).\n",
        "\n",
        "   - **Examples :**\n",
        "     - **Discrete Data :**\n",
        "\n",
        "       - Number of students in a classroom (e.g., 25 students).\n",
        "\n",
        "       - Number of books in a library (e.g., 1,000 books).\n",
        "\n",
        "     - **Continuous Data :**\n",
        "\n",
        "       - Height of individuals (e.g., 5.6 feet, 162.5 cm).\n",
        "    \n",
        "       - Temperature (e.g., 22.3°C, 98.6°F).\n",
        "\n",
        "   - **Advantages :**\n",
        "\n",
        "     - Can be used for detailed analysis, such as calculating averages, variances, and correlations.\n",
        "\n",
        "     - Allows for more advanced statistical modeling.\n",
        "\n",
        "   - **Disadvantages :**\n",
        "\n",
        "     - May require specialized tools for measurement (especially for continuous data).\n",
        "\n",
        "- In short, **qualitative data** is descriptive and used to categorize information, while **quantitative data** involves numbers that can be measured, counted, and analyzed mathematically."
      ],
      "metadata": {
        "id": "K4vTwM6uEG04"
      }
    },
    {
      "cell_type": "markdown",
      "source": [
        "**9. What are the different types of data in statistics ?**\n",
        "- In statistics, data can be classified into several types based on various characteristics. Understanding these types is important for selecting appropriate statistical methods and analyses. Here's a breakdown of the different types of data in statistics :\n",
        "\n",
        "- **Qualitative Data (Categorical Data) :** Data that can be categorized or classified based on attributes or qualities rather than numerical values. This type of data is descriptive and often used to group or classify information.\n",
        " - **Types :**\n",
        "   - **Nominal Data :** Categories without any specific order or ranking.\n",
        "\n",
        "     - **Examples :** Gender (male, female), Eye color (blue, brown, green), Marital status (single, married, divorced).\n",
        "\n",
        "   - **Ordinal Data :** Categories with a meaningful order, but the differences between the categories are not measurable.\n",
        "\n",
        "     - **Examples :** Education level (high school, undergraduate, graduate), Customer satisfaction (poor, average, good, excellent).\n",
        "\n",
        "- **Quantitative Data (Numerical Data) :** Data that is expressed in numbers and can be measured. This type of data allows for arithmetic operations like addition, subtraction, etc.\n",
        "\n",
        " - **Types :**\n",
        "\n",
        "   - **Discrete Data :** Data that consists of distinct, countable values, typically whole numbers.\n",
        "\n",
        "     - **Examples :** Number of children, Number of cars in a parking lot, Number of students in a class.\n",
        "\n",
        "   - **Continuous Data :** Data that can take any value within a given range and is usually measured rather than counted. These values can have decimal points.\n",
        "\n",
        "     - **Examples :** Height (5.6 feet, 175.3 cm), Weight (68 kg, 150.5 lbs), Temperature (22.5°C, 98.7°F).\n",
        "\n",
        "- **Interval Data :** A type of continuous data where the difference between two values is meaningful, but there is no true zero point. Interval data allows for addition and subtraction but does not support meaningful ratios.\n",
        "\n",
        "  - **Examples :**\n",
        "   - Temperature measured in Celsius or Fahrenheit (e.g., 20°C, 30°C). The difference between 20°C and 30°C is meaningful, but 0°C doesn’t represent a \"true\" zero temperature (it’s not the absence of heat).\n",
        "\n",
        "   - Calendar years (e.g., 1990, 2000, 2020). The difference between years is meaningful, but there is no true \"zero\" year.\n",
        "\n",
        "- **Ratio Data :** A type of continuous data that has all the properties of interval data, with the addition of a true zero point. This means that both differences and ratios are meaningful.\n",
        "\n",
        " - **Examples :**\n",
        "\n",
        "   - Height (e.g., 150 cm, 180 cm), because a height of 0 cm represents the complete absence of height.\n",
        "\n",
        "   - Weight (e.g., 50 kg, 70 kg), where a weight of 0 kg means no weight at all.\n",
        "\n",
        "   - Age (e.g., 25 years, 50 years), where 0 years represents the absence of age (birth).\n",
        "\n",
        "- **Primary Data :** Data collected directly by the researcher from the source or the original subject. It is specific to the researcher's study.\n",
        "\n",
        " - **Examples :**\n",
        "\n",
        "   - Conducting a survey and recording the responses.\n",
        "\n",
        "   - Observing and recording the growth of plants in an experiment.\n",
        "\n",
        "- **Secondary Data :** Data that has been collected by someone else for a different purpose and is being reused for the current study. It is not collected directly from the source by the researcher.\n",
        "\n",
        " - **Examples :**\n",
        "\n",
        "   - Using census data for demographic studies.\n",
        "  \n",
        "   - Analyzing data from a government report or a previously conducted survey.\n",
        "\n",
        "- **Cross-Sectional Data :** Data collected at a single point in time or over a short period, representing a snapshot of a particular moment.\n",
        "\n",
        " - **Examples :**\n",
        "\n",
        "   - A survey of students' favorite subjects conducted during one academic year.\n",
        "\n",
        "   - A snapshot of consumer preferences in a market at a specific time.\n",
        "\n",
        "- **Time-Series Data :** Data collected over time, usually at regular intervals, to analyze trends, patterns, or behaviors across different time periods.\n",
        "\n",
        " - **Examples :**\n",
        "\n",
        "   - Monthly unemployment rates over several years.\n",
        "\n",
        "   - Daily stock market prices.\n",
        "\n",
        "   - Temperature readings recorded every hour for a week.\n",
        "\n",
        "- **Nominal Data :** A type of qualitative data where the values represent different categories or groups, with no inherent order or ranking.\n",
        "\n",
        " - **Examples :**\n",
        "\n",
        "   - Colors (red, blue, green).\n",
        "\n",
        "   - Types of animals (dog, cat, bird).\n",
        "\n",
        "   - Types of fruit (apple, banana, orange).\n",
        "\n",
        "- **Ordinal Data :** A type of qualitative data that has a defined order or ranking, but the intervals between the ranks are not uniform or meaningful.\n",
        "\n",
        " - **Examples :**\n",
        "\n",
        "   - Rating scales (1 = Poor, 2 = Fair, 3 = Good, 4 = Excellent).\n",
        "  \n",
        "   - Educational levels (high school, undergraduate, graduate).\n",
        "\n",
        "- In short, data in statistics can be broadly classified as either **qualitative** (descriptive, categorical) or **quantitative** (numerical), with various subcategories within each type. Understanding these distinctions helps in selecting the correct statistical methods for analysis."
      ],
      "metadata": {
        "id": "lk18EdgSucgm"
      }
    },
    {
      "cell_type": "markdown",
      "source": [
        "**10. Explain nominal, ordinal, interval, and ratio levels of measurement.**\n",
        "\n",
        "- The **levels of measurement** in statistics—**nominal**, **ordinal**, **interval**, and **ratio** — represent different ways of classifying data based on the level of detail and the type of information they convey. Each level has specific characteristics and determines what kinds of statistical analyses are appropriate. Here's an explanation of each level :\n",
        "\n",
        "- **Nominal Level of Measurement :** The nominal level is the **lowest** level of measurement. It categorizes data into distinct groups or categories that have **no inherent order or ranking**. Nominal data can only identify differences between categories but cannot indicate any sort of magnitude or order.\n",
        "\n",
        " - **Characteristics :**\n",
        "\n",
        "   - **No inherent order :** The categories do not have a meaningful sequence.\n",
        "\n",
        "   - **Categorical data :** Each value represents a distinct category.\n",
        "\n",
        "   - **Mathematical operations :** We can count the frequency of each category, but we cannot perform arithmetic operations like addition or subtraction.\n",
        "\n",
        " - **Examples :**\n",
        "\n",
        "   - Colors of cars (red, blue, green, black).\n",
        "\n",
        "   - Types of animals (dog, cat, bird).\n",
        "\n",
        "   - Gender (male, female, non-binary).\n",
        "\n",
        "   - Marital status (single, married, divorced).\n",
        "\n",
        "- **Ordinal Level of Measurement :** The ordinal level of measurement involves **ordered categories** where the **differences between the categories are not necessarily uniform** or meaningful. This level provides more information than nominal data because it reflects a ranking or ordering of values.\n",
        "\n",
        " - **Characteristics :**\n",
        "\n",
        "   - **Ordered categories :** The data is ranked or ordered.\n",
        "\n",
        "   - **No consistent difference :** The exact difference between the categories is not defined or may not be the same.\n",
        "\n",
        "   - **Mathematical operations :** We can compare values to determine which is higher or lower, but we cannot calculate meaningful differences between them.\n",
        "\n",
        " - **Examples :**\n",
        "\n",
        "   - Educational levels (high school, undergraduate, graduate).\n",
        "\n",
        "   - Customer satisfaction ratings (poor, fair, good, excellent).\n",
        "\n",
        "   - Position in a race (1st, 2nd, 3rd, etc.).\n",
        "\n",
        "   - Likert scale responses (strongly disagree, disagree, neutral, agree, strongly agree).\n",
        "\n",
        "- **Interval Level of Measurement :** The interval level of measurement involves **ordered categories** with **equal intervals** between consecutive values, but **no true zero point**. The zero point is arbitrary, meaning that zero doesn't represent the complete absence of the quantity being measured.\n",
        "\n",
        " - **Characteristics :**\n",
        "\n",
        "   - **Ordered and equal intervals :** The difference between values is meaningful and consistent.\n",
        "\n",
        "   - **No true zero :** Zero does not represent the absence of the attribute (e.g., zero temperature doesn’t mean \"no temperature\").\n",
        "\n",
        "   - **Mathematical operations :** We can perform addition and subtraction on interval data, but ratios (multiplying or dividing) do not make sense.\n",
        "\n",
        " - **Examples :**\n",
        "\n",
        "   - Temperature in Celsius or Fahrenheit (e.g., 0°C or 32°F is not \"no temperature,\" it's a specific reference point).\n",
        "\n",
        "   - IQ scores (e.g., the difference between an IQ of 100 and 110 is the same as between 110 and 120, but 0 IQ doesn’t mean \"no intelligence\").\n",
        "\n",
        "   - Calendar years (e.g., the difference between 2000 and 2010 is 10 years, but 0 year doesn't mean the \"absence of time\").\n",
        "\n",
        "- **Ratio Level of Measurement :** The ratio level of measurement is the highest and most informative level. It contains all the properties of the interval level but also has a **true zero point**, meaning that zero represents the complete absence of the quantity being measured. This allows for the full range of mathematical operations, including meaningful ratios.\n",
        "\n",
        " - **Characteristics :**\n",
        "\n",
        "   - **Ordered and equal intervals :** Similar to interval data, but with a true zero.\n",
        "\n",
        "   - **True zero :** Zero means \"none\" or \"absence\" of the attribute being measured.\n",
        "\n",
        "   - **Mathematical operations :** We can perform addition, subtraction, multiplication, and division. Ratios of values are meaningful.\n",
        "\n",
        " - **Examples :**\n",
        "\n",
        "   - Height (e.g., 0 cm means no height at all).\n",
        "\n",
        "   - Weight (e.g., 0 kg means no weight).\n",
        "\n",
        "   - Age (e.g., 0 years means no age, the beginning of life).\n",
        "\n",
        "   - Income (e.g., \\$0 means no income).\n",
        "\n",
        "   - Distance (e.g., 0 miles means no distance).\n",
        "\n",
        "\n",
        "- **Key Points :**\n",
        "\n",
        " - **Nominal** and **Ordinal** data are **categorical** in nature, whereas **Interval** and **Ratio** data are **numerical**.\n",
        "\n",
        " - The key distinction between **Interval** and **Ratio** is the presence of a true zero point, which gives **Ratio** data a greater range of mathematical operations.\n",
        "\n",
        " - **Ordinal** data has rankings but does not provide meaningful differences between categories, unlike **Interval** and **Ratio** data, which do.\n",
        "\n",
        "- Understanding these levels helps determine the types of statistical analyses we can perform on the data, as some operations are only meaningful at higher levels of measurement.\n"
      ],
      "metadata": {
        "id": "VYxxrR0lykBV"
      }
    },
    {
      "cell_type": "markdown",
      "source": [
        "**11. What is the measure of central tendency ?**\n",
        "- The **measure of central tendency** is a statistical measure that describes the center or typical value of a dataset. It provides a single value that represents the entire distribution of data. The three most common measures of central tendency are :\n",
        "\n",
        "- **Mean :** The mean is the **average** of all the data points in a dataset. It is calculated by adding up all the values and dividing by the number of values in the dataset.\n",
        "\n",
        " - **Formula :**\n",
        "\n",
        "  $$\n",
        "  \\text{Mean} = \\frac{\\sum X}{n}\n",
        "  $$\n",
        "\n",
        "  where :\n",
        "\n",
        "    - $\\sum X$ is the sum of all data points,\n",
        "    - $n$ is the number of data points.\n",
        "\n",
        " - **Example :** For the data set: 3, 5, 7, 9, 11, the mean is :\n",
        "\n",
        "    $$\n",
        "    \\frac{3 + 5 + 7 + 9 + 11}{5} = 7\n",
        "    $$\n",
        "\n",
        " - **Advantages :**\n",
        "   - Takes every value in the dataset into account.\n",
        "  \n",
        "   - Suitable for interval and ratio data.\n",
        "\n",
        " - **Disadvantages :**\n",
        "\n",
        "   - Sensitive to extreme values (outliers). For example, the mean of 1, 2, 3, 4, and 1000 is 202, which doesn't represent the typical values of the dataset well.\n",
        "\n",
        "- **Median :** The median is the **middle value** of a dataset when the data points are arranged in ascending or descending order. If there is an odd number of data points, the median is the middle value. If there is an even number of data points, the median is the average of the two middle values.\n",
        "\n",
        " - **Example :**\n",
        "\n",
        "   - For the data set : 3, 5, 7, 9, 11, the median is 7 (the middle value).\n",
        "\n",
        "   - For the data set : 3, 5, 7, 9, 11, 13, the median is:\n",
        "\n",
        "    $$\n",
        "    \\frac{7 + 9}{2} = 8\n",
        "    $$\n",
        "\n",
        " - **Advantages :**\n",
        "\n",
        "   - Not affected by outliers or extreme values.\n",
        "\n",
        "   - Useful for skewed distributions.\n",
        "\n",
        " - **Disadvantages :**\n",
        "\n",
        "   - Does not consider the value of all data points, only the middle one(s).\n",
        "\n",
        "- **Mode :** The mode is the **most frequent** value in a dataset. It is the value that appears most often.\n",
        "\n",
        " - **Example :**\n",
        "\n",
        "   - For the data set: 3, 3, 5, 7, 9, the mode is 3, as it appears more frequently than the other values.\n",
        "\n",
        "   - For the data set: 2, 4, 4, 6, 6, 6, the mode is 6 because it appears most frequently.\n",
        "\n",
        " - **Advantages :**\n",
        "\n",
        "   - Can be used with nominal, ordinal, interval, and ratio data.\n",
        "\n",
        "   - Useful for categorical data where other measures of central tendency (mean, median) are not appropriate.\n",
        "\n",
        " - **Disadvantages :**\n",
        "    \n",
        "    - A dataset may have more than one mode (bimodal or multimodal), or no mode at all if no value repeats.\n",
        "\n",
        "- When to use each measure :\n",
        "\n",
        " - **Mean** is best used for normally distributed data where the values are evenly distributed.\n",
        "\n",
        " - **Median** is preferred for skewed data or data with outliers, as it is more robust to extreme values.\n",
        "\n",
        " - **Mode** is useful for categorical data or when identifying the most common value is important.\n",
        "\n",
        "- Each measure provides a different perspective on the data's central value, and the choice of which to use depends on the nature and distribution of the data.\n"
      ],
      "metadata": {
        "id": "PKkunSAW2ZaP"
      }
    },
    {
      "cell_type": "markdown",
      "source": [
        "**12. Define mean, median, and mode.**\n",
        "- Here are the definitions of **mean**, **median**, and **mode** :\n",
        "\n",
        "- **Mean :** The **mean** is the **average** of all the numbers in a dataset. It is calculated by adding up all the data points and then dividing by the total number of data points.\n",
        "\n",
        " - **Formula :**\n",
        "\n",
        "  $$\n",
        "  \\text{Mean} = \\frac{\\sum X}{n}\n",
        "  $$\n",
        "\n",
        "  where :\n",
        "     - $\\sum X$ is the sum of all the data points\n",
        "    \n",
        "     - $n$ is the number of data points.\n",
        "\n",
        " - **Example :** For the dataset: 4, 8, 12, 16, the mean is:\n",
        "\n",
        "  $$\n",
        "  \\frac{4 + 8 + 12 + 16}{4} = 10\n",
        "  $$\n",
        "\n",
        " - **Use :** The mean is useful for datasets with no extreme outliers and is best for **interval** or **ratio** data.\n",
        "\n",
        "- **Median :** The **median** is the **middle value** in a dataset when the numbers are arranged in ascending or descending order. If the dataset has an odd number of data points, the median is the value in the middle. If the dataset has an even number of data points, the median is the average of the two middle values.\n",
        "\n",
        " - **Example :**\n",
        "\n",
        "   - For the dataset : 3, 5, 7, 9, 11, the median is 7 (middle value).\n",
        "  \n",
        "   - For the dataset: 1, 2, 3, 4, 5, 6, the median is :\n",
        "\n",
        "    $$\n",
        "    \\frac{3 + 4}{2} = 3.5\n",
        "    $$\n",
        "\n",
        " - **Use :** The median is particularly useful for datasets that are **skewed** or have **outliers**, as it is not affected by extreme values.\n",
        "\n",
        "- **Mode :** The **mode** is the value that appears most **frequently** in a dataset. A dataset may have one mode (unimodal), more than one mode (bimodal or multimodal), or no mode at all if no value repeats.\n",
        "\n",
        " - **Example :**\n",
        "\n",
        "   - For the dataset : 2, 3, 3, 4, 5, the mode is 3, because it appears twice, more than any other number.\n",
        "\n",
        "   - For the dataset : 1, 2, 2, 3, 3, 4, 4, the dataset is **bimodal** with modes 2 and 3.\n",
        "\n",
        " - **Use :** The mode is most useful for **nominal** or **categorical** data where we want to know the most common category or value."
      ],
      "metadata": {
        "id": "mOc3FJSPTLIS"
      }
    },
    {
      "cell_type": "markdown",
      "source": [
        "**13.\tWhat is the significance of the measure of central tendency ?**\n",
        "- The **measure of central tendency** is significant in statistics because it provides a single value that represents the center or typical value of a dataset, allowing for a simplified summary of the data. This helps in understanding the general pattern or trend of the data and making comparisons across different datasets. The significance can be summarized as follows :\n",
        "\n",
        "- **Simplifies Complex Data :**\n",
        " - Measures of central tendency help reduce large datasets to a single number that summarizes the data. This is particularly useful when dealing with large volumes of data or when presenting information to a non-technical audience.\n",
        "\n",
        " - For example, in a school, the **average score** (mean) of students in a class can provide a general understanding of how well the class performed on a test.\n",
        "\n",
        "- **Identifies a Representative Value :**\n",
        "\n",
        " - It helps to identify a typical or \"central\" value around which the data points cluster. This is particularly useful in comparing different datasets or understanding the distribution of data.\n",
        "\n",
        " - For example, in a population of employees, the **median income** can help identify a typical income level without being skewed by extremely high or low values.\n",
        "\n",
        "- **Basis for Further Statistical Analysis :**\n",
        " - The measures of central tendency (mean, median, mode) form the foundation for more complex statistical analyses, including dispersion (variance, standard deviation) and hypothesis testing. Knowing the central value allows researchers to study how data points deviate from this center.\n",
        "\n",
        " - For example, the **mean** is often used as a reference point when calculating how spread out the data is (e.g., in calculating variance or standard deviation).\n",
        "\n",
        "- **Comparison Across Datasets :**\n",
        " - Measures of central tendency allow for easy comparisons between different datasets or groups.\n",
        "\n",
        " - For example, comparing the **mean salaries** of employees in different departments can help identify where disparities exist.\n",
        "\n",
        " - In healthcare, comparing the **mean age** of two different patient groups helps determine the typical age range of each group.\n",
        "\n",
        "- **Helps in Decision-Making :**\n",
        " - In many real-world scenarios, decision-makers use measures of central tendency to make informed choices.\n",
        "\n",
        " - For example, businesses may use the **mean** sales figures to forecast future sales or the **mode** to determine the most popular product.\n",
        "\n",
        " - Public policy decisions, such as setting an **average wage** or determining eligibility for certain programs, rely on central tendency measures.\n",
        "\n",
        "- **Understanding Data Distribution :**\n",
        " - The choice of central tendency measure (mean, median, or mode) helps reveal the nature of the data distribution :\n",
        "\n",
        "   - If the **mean** and **median** are similar, the data is likely symmetric.\n",
        "\n",
        "   - If the **mean** is much higher or lower than the **median**, the data is likely skewed.\n",
        "\n",
        "   - The **mode** can help identify the most frequent data point, which might indicate a peak in a distribution.\n",
        "\n",
        "- **Useful for Different Types of Data :**\n",
        " - **Nominal data :** Mode is often the only applicable measure.\n",
        "\n",
        " - **Ordinal data :** Median or mode is often used because the differences between the ranks may not be uniform.\n",
        "\n",
        " - **Interval/ratio data :** The mean, median, and mode can all be used, with the mean being the most common when the data is symmetrically distributed.\n",
        "\n",
        "- The significance of measures of central tendency lies in their ability to provide a concise, interpretable summary of a dataset. They help simplify data, make comparisons easier, and form the foundation for deeper statistical analysis. By identifying a central or typical value, they play a crucial role in understanding, interpreting, and making decisions based on data."
      ],
      "metadata": {
        "id": "LExxw-uPUnda"
      }
    },
    {
      "cell_type": "markdown",
      "source": [
        "**14.\tWhat is variance, and how is it calculated ?**\n",
        "- **Variance** is a measure of how much the values in a dataset deviate from the mean (average). It quantifies the **spread** or **dispersion** of the data points in the dataset. In other words, variance tells us how far each number in the dataset is from the mean and thus how spread out the data points are.\n",
        "\n",
        "- A **high variance** indicates that the data points are spread out widely around the mean, while a **low variance** indicates that the data points are close to the mean.\n",
        "\n",
        "- **Formula for Variance :** There are two different formulas depending on whether we are calculating variance for a **population** or a **sample**.\n",
        "\n",
        " - **Population Variance :** If we're calculating the variance for an entire population, the formula is :\n",
        "\n",
        "$$\n",
        "\\sigma^2 = \\frac{\\sum (X_i - \\mu)^2}{N}\n",
        "$$\n",
        "\n",
        "where :\n",
        "\n",
        "* $\\sigma^2$ = Population variance\n",
        "\n",
        "* $X_i$ = Each individual data point\n",
        "\n",
        "* $\\mu$ = Population mean (average)\n",
        "\n",
        "* $N$ = Total number of data points in the population\n",
        "\n",
        "* $\\sum (X_i - \\mu)^2$ = Sum of the squared deviations of each data point from the mean\n",
        "\n",
        " - **Sample Variance :** If we're calculating the variance for a sample from a population (not the entire population), the formula is :\n",
        "\n",
        "$$\n",
        "s^2 = \\frac{\\sum (X_i - \\bar{X})^2}{n - 1}\n",
        "$$\n",
        "\n",
        "where :\n",
        "\n",
        "* $s^2$ = Sample variance\n",
        "\n",
        "* $X_i$ = Each individual data point in the sample\n",
        "\n",
        "* $\\bar{X}$ = Sample mean (average)\n",
        "\n",
        "* $n$ = Number of data points in the sample\n",
        "\n",
        "* $\\sum (X_i - \\bar{X})^2$ = Sum of the squared deviations of each data point from the sample mean\n",
        "\n",
        "* The denominator is $n - 1$ (called *Bessel’s correction*) to correct for bias in the estimation of the population variance when only a sample is available.\n",
        "\n",
        "- **Steps to calculate variance :**\n",
        " - **Find the Mean :**\n",
        "   - First, calculate the mean (average) of the dataset.\n",
        "\n",
        "   - **Population mean ($\\mu$) :**\n",
        "\n",
        "  $$\n",
        "  \\mu = \\frac{\\sum X_i}{N}\n",
        "  $$\n",
        "\n",
        "    - - **Sample mean ($\\bar{X}$) :**\n",
        "\n",
        "  $$\n",
        "  \\bar{X} = \\frac{\\sum X_i}{n}\n",
        "  $$\n",
        "\n",
        " - **Calculate the Squared Differences :**\n",
        "\n",
        "   - Subtract the mean from each data point to find the deviation of each value from the mean.\n",
        "\n",
        "   - Square each deviation to ensure positive values.\n",
        "\n",
        " - **Sum of the Squared Differences :**\n",
        "   \n",
        "   - Add up all the squared differences (from Step 2).\n",
        "\n",
        " - **Divide by the Number of Data Points :**\n",
        "\n",
        "   - For a **population**, divide the sum of squared deviations by the total number of data points ($N$).\n",
        "\n",
        "   - For a **sample**, divide the sum of squared deviations by $n - 1$ (this corrects for bias when estimating variance from a sample).\n",
        "\n",
        "- **Example :** Let's calculate the **sample variance** for the dataset : 5, 8, 12, 15, 20.\n",
        "\n",
        " - **Find the Sample Mean ($\\bar{X}$) :**\n",
        "\n",
        "   $$\n",
        "   \\bar{X} = \\frac{5 + 8 + 12 + 15 + 20}{5} = \\frac{60}{5} = 12\n",
        "   $$\n",
        "\n",
        " - **Calculate the Squared Differences :**\n",
        "\n",
        "   * $(5 - 12)^2 = (-7)^2 = 49$\n",
        "\n",
        "   * $(8 - 12)^2 = (-4)^2 = 16$\n",
        "\n",
        "   * $(12 - 12)^2 = 0^2 = 0$\n",
        "\n",
        "   * $(15 - 12)^2 = (3)^2 = 9$\n",
        "\n",
        "   * $(20 - 12)^2 = (8)^2 = 64$\n",
        "\n",
        " - **Sum of Squared Differences :**\n",
        "\n",
        "   $$\n",
        "   49 + 16 + 0 + 9 + 64 = 138\n",
        "   $$\n",
        "\n",
        " - **Divide by $n - 1$ (for sample variance) :***\n",
        "\n",
        "   $$\n",
        "   s^2 = \\frac{138}{5 - 1} = \\frac{138}{4} = 34.5\n",
        "   $$\n",
        "\n",
        "    - Thus, the *sample variance* $s^2$ for this dataset is *34.5*.\n",
        "\n",
        "- **Interpretation of Variance :**\n",
        " - A **variance of 0** means that all data points are identical and there is no spread (i.e., all values are the same as the mean).\n",
        "\n",
        " - A **larger variance** means more spread out data, while a **smaller variance** indicates that the data points are closer to the mean.\n"
      ],
      "metadata": {
        "id": "mUOkshk7WQNI"
      }
    },
    {
      "cell_type": "markdown",
      "source": [
        "**15.\tWhat is standard deviation, and why is it important ?**\n",
        "- The **standard deviation** is a measure of the amount of **variation** or **dispersion** in a dataset. It tells us how spread out the values are from the mean. A low standard deviation means that the values tend to be close to the mean, while a high standard deviation means the values are spread out over a wider range.\n",
        "\n",
        "- Unlike variance, which measures the average squared deviation from the mean, the standard deviation is expressed in the **same units** as the original data, making it easier to interpret.\n",
        "\n",
        "- **Why is Standard Deviation important :**\n",
        " - **Measures Spread/Variation :** Standard deviation gives a clear idea of how spread out the data is. A **low standard deviation** indicates that the data points are close to the mean, while a **high standard deviation** suggests that the data points are spread out over a wider range.\n",
        "\n",
        " - **Comparison of Datasets :** Standard deviation allows us to compare the spread of data between different datasets. For example, if two sets of test scores have the same mean but different standard deviations, the one with the higher standard deviation has more variability in scores.\n",
        "\n",
        " - **Understanding Data Consistency :** In business, economics, and quality control, standard deviation is used to assess the **consistency** of products, processes, or systems. A smaller standard deviation means greater consistency, while a larger one signals more variation.\n",
        "\n",
        " - **Risk Assessment in Finance :** In finance, standard deviation is used to measure the **volatility** of stock prices or investment returns. Investors use it to assess the risk associated with a particular asset. A higher standard deviation means greater price fluctuation and more risk.\n",
        "\n",
        " - **Interpretation of Normal Distribution :** In a **normal distribution** (bell-shaped curve), about 68% of the data falls within **one standard deviation** of the mean, 95% falls within **two standard deviations**, and **99.7% falls within three standard deviations**. This property helps in understanding the probability of data points and making predictions.\n",
        "\n",
        " - **Foundation for Other Statistical Analyses :** Standard deviation is used in more advanced statistical analyses such as **Z-scores**, **confidence intervals**, and **hypothesis testing**. It is foundational for understanding variability in any statistical model.\n",
        "\n",
        "\n",
        "- The **standard deviation** measures the spread of data around the mean.\n",
        "\n",
        "- It is important because it helps quantify **variability**, making it easier to understand data consistency and to compare datasets.\n",
        "\n",
        "- A smaller standard deviation means data points are close to the mean, while a larger one indicates more variability or dispersion.\n",
        "\n",
        "- Standard deviation plays a critical role in fields like **finance*, **engineering**, and **scientific research** for assessing risk, quality, and data distribution."
      ],
      "metadata": {
        "id": "gyozdsAyg6DL"
      }
    },
    {
      "cell_type": "markdown",
      "source": [
        "**16.\tDefine and explain the term range in statistics.**\n",
        "\n",
        "- The **range** is a simple measure of the **spread** or **dispersion** of a dataset. It represents the difference between the **largest** and the **smallest** values in the dataset. The range gives an idea of how spread out the values in the data are, but it doesn't provide detailed information about the distribution of values between the minimum and maximum.\n",
        "\n",
        "- **Formula for Range :**\n",
        "\n",
        "$$\n",
        "\\text{Range} = \\text{Maximum value} - \\text{Minimum value}\n",
        "$$\n",
        "\n",
        "where :\n",
        " - The **Maximum value** is the largest data point in the dataset.\n",
        "\n",
        " - The **Minimum value** is the smallest data point in the dataset.\n",
        "\n",
        "- **Steps to Calculate the Range :**\n",
        " - **Identify the Maximum Value :** Find the largest value in the dataset.\n",
        "\n",
        " - **Identify the Minimum Value :** Find the smallest value in the dataset.\n",
        "\n",
        " - **Subtract the Minimum from the Maximum :** Subtract the minimum value from the maximum value to calculate the range.\n",
        "\n",
        "- **Example :** For the dataset: 5, 12, 3, 9, 7\n",
        "\n",
        " - The **maximum value** is **12**.\n",
        "\n",
        " - The **minimum value** is **3**.\n",
        "\n",
        " - The range is :\n",
        "\n",
        "   $$\n",
        "   \\text{Range} = 12 - 3 = 9\n",
        "   $$\n",
        "\n",
        " - So, the **range** of this dataset is **9**.\n",
        "\n",
        "- **Significance of the Range :**\n",
        " - **Simplicity :** The range is a very **simple and quick** way to get a sense of how spread out the data is.\n",
        "\n",
        " - **Measures Dispersion :** It helps in understanding the extent of **variability** in the dataset. A large range indicates a wider spread, while a small range indicates that the data points are close together.\n",
        "\n",
        " - **Sensitive to Outliers :** One limitation of the range is that it is **highly sensitive** to outliers (extreme values). A single outlier can significantly increase the range and give a misleading impression of the data's variability.\n",
        "\n",
        "   - **Example :** If the dataset is 3, 5, 7, 9, and 100, the range would be :\n",
        "\n",
        "     $$\n",
        "     100 - 3 = 97\n",
        "     $$\n",
        "\n",
        "     Even though most of the data points are clustered close to each other, the range is very large because of the extreme value (100).\n",
        "\n",
        " - **No Information on Distribution :** The range only gives the difference between the maximum and minimum values, so it doesn't tell us anything about how the other data points are distributed within that range.\n",
        "\n",
        "\n",
        "- **When to Use the Range :**\n",
        "\n",
        " - The range is useful for getting a **quick sense** of how spread out the data is.\n",
        "\n",
        " - It is helpful in datasets where there are no extreme outliers or when we're working with smaller datasets where detailed distribution information is less critical.\n",
        "\n",
        " - It can be a starting point for understanding the spread of the data before applying more detailed measures of dispersion like **variance** or **standard deviation**.\n",
        "\n",
        "- In short, while the **range** is a useful and easy-to-understand measure of data dispersion, it should be used with caution, especially when dealing with datasets that may contain outliers."
      ],
      "metadata": {
        "id": "MNnY09wU2Tur"
      }
    },
    {
      "cell_type": "markdown",
      "source": [
        "**17.\tWhat is the difference between variance and standard deviation ?**\n",
        "- Both **variance** and **standard deviation** are measures of **dispersion** or **spread** in a dataset. They tell us how much the data points deviate from the mean. However, there are some important differences between them.\n",
        "\n",
        "| **Feature**                 | **Variance**                                  | **Standard Deviation**                                |\n",
        "| --------------------------- | --------------------------------------------- | ----------------------------------------------------- |\n",
        "| **Definition**              | Average of squared deviations from the mean   | Square root of the variance                           |\n",
        "| **Units**                   | Squared units of the data                     | Same units as the original data                       |\n",
        "| **Interpretability**        | Less intuitive due to squared units           | More intuitive, as it’s in the same units as the data |\n",
        "| **Use**                     | Mostly used in statistical theory and models  | Commonly used in practical applications               |\n",
        "| **Sensitivity to Outliers** | More sensitive due to squaring the deviations | Less sensitive but still affected by outliers         |\n",
        "\n",
        "- In short, **variance** gives a measure of how much the data deviates from the mean in squared terms, while **standard deviation** translates this measure back into the original units of the data, making it easier to interpret. Both are crucial in understanding the spread and variability of data, but standard deviation is typically preferred in practical applications because it’s easier to relate to real-world measurements."
      ],
      "metadata": {
        "id": "jujn6ElI4760"
      }
    },
    {
      "cell_type": "markdown",
      "source": [
        "**18.\tWhat is skewness in a dataset ?**\n",
        "- **Skewness** refers to the **asymmetry** or **lack of symmetry** in the distribution of data. It indicates whether the data is skewed to the **left** or **right** (i.e., if it is shifted or stretched on one side of the mean).\n",
        "\n",
        "- In a **perfectly symmetrical distribution**, such as the **normal distribution**, the data is evenly distributed on both sides of the mean, and the skewness is **zero**. However, in many real-world datasets, skewness can exist, causing the data to lean more to one side.\n",
        "\n",
        "- **How to Measure Skewness :** Skewness can be calculated using statistical formulas, but here is a simplified explanation :\n",
        "\n",
        " - **Formula for Skewness :** (Population Skewness):\n",
        "\n",
        "   $$\n",
        "   \\text{Skewness} = \\frac{n}{(n-1)(n-2)} \\cdot \\frac{\\sum (X_i - \\mu)^3}{\\sigma^3}\n",
        "   $$\n",
        "\n",
        "   where:\n",
        "\n",
        "   * $n$ = number of data points\n",
        "\n",
        "   * $X_i$ = each data point\n",
        "\n",
        "   * $\\mu$ = mean of the dataset\n",
        "\n",
        "   * $\\sigma$ = standard deviation\n",
        "\n",
        "   For **sample skewness**, the formula may slightly differ to adjust for the sample size.\n",
        "\n",
        " - **Interpreting Skewness :**\n",
        "\n",
        "   - **Skewness = 0 :** Perfect symmetry.\n",
        "\n",
        "   - **Skewness > 0 :** Positive skew (right-skewed distribution).\n",
        "\n",
        "   - **Skewness < 0 :** Negative skew (left-skewed distribution).\n",
        "\n",
        " - In practice, skewness is often measured using software (e.g., Excel, R, Python, etc.) that computes it directly from the data.\n",
        "\n",
        "\n",
        "- **Example of Skewness in a Real-World Dataset :** Consider the following dataset of **daily income** of 10 individuals in dollars : **5, 6, 7, 8, 8, 9, 9, 10, 10, 100**\n",
        "\n",
        " - The **mean** is around 14.5, but the dataset is clearly skewed to the **right** due to the presence of the outlier (100).\n",
        "\n",
        " - The **median** is 8, which is much lower than the mean, indicating positive skewness.\n",
        "\n",
        " - In this case, the skewness value would likely be positive, suggesting a **right-skewed** distribution."
      ],
      "metadata": {
        "id": "GaRKilV_5n0k"
      }
    },
    {
      "cell_type": "markdown",
      "source": [
        "**19.\tWhat does it mean if a dataset is positively or negatively skewed ?**\n",
        "\n",
        "- **Positively Skewed (Right-Skewed) Dataset :**\n",
        " - A dataset is **positively skewed** (or **right-skewed**) when the **right tail** (larger values) of the distribution is **longer** or **more spread out** than the left tail (smaller values). In other words, the majority of the data points are concentrated on the **left** side of the distribution, with only a few larger values extending to the right.\n",
        "\n",
        " - **Characteristics of Positive Skew :**\n",
        "\n",
        "   - The **mean** is typically **greater** than the **median**, and the **mode** is less than both the mean and the median.\n",
        "\n",
        "   - The **right tail** is **stretched out**, indicating the presence of **high values** or **outliers** that pull the distribution to the right.\n",
        "\n",
        "   - Most data points are clustered near the lower end of the distribution, with a few larger values far from the mean.\n",
        "\n",
        " - **Example :**\n",
        "\n",
        "   - **Income Distribution :** Most people earn an average income, but a few individuals have extremely high incomes, which causes the distribution to be right-skewed.\n",
        "\n",
        "   - **Real Estate Prices :** Most homes in a city may be priced within a specific range, but a few very expensive properties can push the average price higher, causing the dataset to be positively skewed.\n",
        "\n",
        "   - **Visual :** In a **positively skewed distribution**, the data points are more tightly clustered on the left side, with the right side stretching out. The mean is to the right of the median.\n",
        "\n",
        "\n",
        "- **Negatively Skewed (Left-Skewed) Dataset :**\n",
        "\n",
        " - A dataset is **negatively skewed** (or **left-skewed**) when the **left tail** (smaller values) is **longer** or **more spread out** than the right tail (larger values). In this case, the majority of the data points are concentrated on the **right** side of the distribution, with only a few smaller values extending to the left.\n",
        "\n",
        " - **Characteristics of Negative Skew :**\n",
        "\n",
        "   - The **mean** is typically **less** than the **median**, and the **mode** is greater than both the mean and the median.\n",
        "\n",
        "   - The **left tail** is **stretched out**, indicating the presence of **low values** or **outliers** that pull the distribution to the left.\n",
        "\n",
        "   - Most data points are concentrated near the higher values, with a few smaller values causing the left skew.\n",
        "\n",
        " - **Example :**\n",
        "\n",
        "   - **Age at Retirement :** Most people retire in their 60s, but a few people retire much earlier, say in their 30s or 40s, which causes the distribution to be negatively skewed.\n",
        "\n",
        "   - **Test Scores :** If a group of students performs mostly well on a test but a few score very poorly, this could create a left-skewed distribution.\n",
        "\n",
        "   - **Visual :** In a **negatively skewed distribution**, the data points are concentrated on the right side, with the left side stretching out. The mean is to the left of the median.\n",
        "\n",
        "- **Implications of Skewness :**\n",
        "\n",
        " - **In Statistical Analysis :** Skewness affects the application of certain statistical methods. Many tests assume normality (i.e., zero skewness). If a dataset is significantly skewed, transformation (e.g., logarithmic transformation) or non-parametric tests may be required.\n",
        "\n",
        " - **Decision Making :** Understanding skewness helps in interpreting the data more accurately. For example, in a positively skewed dataset, the **mean** may not be a good representative of the central tendency due to the influence of outliers. In such cases, the **median** might be a better measure."
      ],
      "metadata": {
        "id": "mTr6ag637dWe"
      }
    },
    {
      "cell_type": "markdown",
      "source": [
        "**20.\tDefine and explain kurtosis.**\n",
        "\n",
        "- **Kurtosis** refers to the **tailedness** or the **shape** of the distribution of data. It measures how **heavy or light** the tails of the distribution are compared to a normal distribution. Essentially, kurtosis helps to understand the **extremity** of outliers or extreme values in the dataset.\n",
        "\n",
        "- While **skewness** describes the asymmetry of the distribution (whether it leans more to one side), **kurtosis** provides information about the **concentration** of the data in the **tails** of the distribution.\n",
        "\n",
        "- **Types of Kurtosis :**\n",
        "\n",
        " - **Mesokurtic :**\n",
        "\n",
        "   - **Mesokurtic** distributions have a kurtosis similar to that of a **normal distribution** (a bell-shaped curve).\n",
        "\n",
        "   - A mesokurtic distribution has **moderate tails** and **no excessive outliers** compared to a normal distribution.\n",
        "\n",
        "   - For a **normal distribution**, the **kurtosis** is *3** (often adjusted to **0** for convenience, called **excess kurtosis**).\n",
        "\n",
        " - **Leptokurtic :**\n",
        "\n",
        "   - **Leptokurtic** distributions have **heavy tails** and a **sharp peak** at the center, meaning that there are more extreme outliers compared to a normal distribution.\n",
        "\n",
        "   - These distributions have **kurtosis greater than 3** (or excess kurtosis greater than 0), indicating a higher frequency of extreme values.\n",
        "\n",
        "   - **Example :** Stock market returns or financial data, where extreme fluctuations (both positive and negative) are more common than in a normal distribution.\n",
        "\n",
        " - **Platykurtic :**\n",
        "\n",
        "   - **Platykurtic** distributions have **light tails** and a **flatter peak** than a normal distribution, indicating fewer extreme values or outliers.\n",
        "\n",
        "   - These distributions have **kurtosis less than 3** (or excess kurtosis less than 0), suggesting that the data is more evenly spread out and extreme values are rare.\n",
        "\n",
        "   - **Example :** Uniform or evenly distributed datasets where extreme values are unlikely.\n",
        "\n",
        "- **Formula for Kurtosis :** Kurtosis is calculated as the fourth central moment divided by the square of the variance. The formula is :\n",
        "\n",
        "$$\n",
        "\\text{Kurtosis} = \\frac{n(n+1)}{(n-1)(n-2)(n-3)} \\sum_{i=1}^{n} \\left(\\frac{X_i - \\mu}{\\sigma}\\right)^4 - \\frac{3(n-1)^2}{(n-2)(n-3)}\n",
        "$$\n",
        "\n",
        "where :\n",
        "\n",
        "* $n$ = number of data points\n",
        "\n",
        "* $X_i$ = each data point\n",
        "\n",
        "* $\\mu$ = mean of the data\n",
        "\n",
        "* $\\sigma$ = standard deviation of the data\n",
        "\n",
        "- The result of this formula gives **excess kurtosis**, where :\n",
        "\n",
        " - **Excess Kurtosis = 0** for a normal distribution (mesokurtic).\n",
        "\n",
        " - **Excess Kurtosis > 0** for leptokurtic distributions (heavy tails).\n",
        "\n",
        " - **Excess Kurtosis < 0** for platykurtic distributions (light tails).\n",
        "\n",
        "- **Significance of Kurtosis :**\n",
        "\n",
        " - **Outlier Detection :** **High kurtosis** (leptokurtic) suggests that the data may contain more **outliers** or **extreme values**, which may require further investigation.\n",
        "\n",
        " - **Risk Assessment :** In financial data or risk analysis, **leptokurtic distributions** can indicate more frequent extreme events (such as market crashes or price changes), which is crucial for understanding potential risks.\n",
        "\n",
        " - **Modeling :** Kurtosis helps in understanding the **shape** of the data distribution, which can guide the choice of statistical models. For example, if data is leptokurtic, it might suggest the need for models that can handle heavy tails (e.g., fat-tailed distributions in finance).\n",
        "\n",
        " - **Comparison of Distributions :** By analyzing the kurtosis of a dataset, we can compare how much more or less **extreme** the dataset is compared to a normal distribution. This helps in understanding the potential for unexpected or extreme outcomes.\n",
        "\n",
        "- **Example :** Let's consider a simple dataset:\n",
        "\n",
        "  **Dataset :** 1, 2, 3, 4, 5, 10, 100\n",
        "\n",
        " - The **mean** of the dataset is **20.14**.\n",
        "\n",
        " - The **standard deviation** is approximately **38.2**.\n",
        "\n",
        " - **Kurtosis** calculation would show that the dataset is **leptokurtic** because of the extreme value (**100**) that causes the distribution to have a sharp peak and heavy tails."
      ],
      "metadata": {
        "id": "4Ch7lga59reG"
      }
    },
    {
      "cell_type": "markdown",
      "source": [
        "**21.\tWhat is the purpose of covariance ?**\n",
        "- **Covariance** is a statistical measure that indicates the **direction** of the **linear relationship** between two random variables. It helps to understand whether two variables tend to increase or decrease together (i.e., move in the same or opposite direction).\n",
        "\n",
        "- **Key Points about Covariance :**\n",
        "\n",
        " - **Positive Covariance :** If the covariance is **positive**, it means that the two variables **increase or decrease together**. In other words, as one variable increases, the other tends to increase as well, and as one decreases, the other also tends to decrease.\n",
        "\n",
        " - **Negative Covariance :** If the covariance is **negative**, it means that as one variable increases, the other tends to **decrease**, and vice versa.\n",
        "\n",
        " - **Zero Covariance :** If the covariance is **zero**, it indicates that there is no **linear relationship** between the variables. In other words, the variables do not move in a consistent pattern relative to each other.\n",
        "\n",
        "- **Mathematical formula for Covariance :** The covariance between two variables $X$ and $Y$ is calculated as :\n",
        "\n",
        "$$\n",
        "\\text{Cov}(X, Y) = \\frac{1}{n-1} \\sum_{i=1}^{n} (X_i - \\bar{X})(Y_i - \\bar{Y})\n",
        "$$\n",
        "\n",
        "where:\n",
        "\n",
        "* $X_i$ and $Y_i$ are individual data points of variables $X$ and $Y$,\n",
        "\n",
        "* $\\bar{X}$ and $\\bar{Y}$ are the means of variables $X$ and $Y$,\n",
        "\n",
        "* $n$ is the number of data points.\n",
        "\n",
        "- **Importance of Covariance :**\n",
        "\n",
        " - **Understanding Relationships :** Covariance helps to understand the **relationship** between two variables. It provides insight into whether two variables **move in the same direction** (positive covariance), **opposite directions** (negative covariance), or whether their movements are **independent** (zero covariance).\n",
        "\n",
        " - **Foundation for Correlation :** Covariance is closely related to the concept of **correlation**. While covariance tells us the direction of the relationship, **correlation** standardizes the value (by dividing by the standard deviations of the variables) to give a **scaled measure** between -1 and 1, making it easier to interpret.\n",
        "\n",
        "   - **Formula for correlation :**\n",
        "\n",
        "     $$\n",
        "     \\text{Correlation} = \\frac{\\text{Cov}(X, Y)}{\\sigma_X \\sigma_Y}\n",
        "     $$\n",
        "\n",
        "     where $\\sigma_X$ and $\\sigma_Y$ are the standard deviations of $X$ and $Y$.\n",
        "\n",
        " - **Portfolio Theory in Finance :** In finance, covariance is used to understand the **relationship between the returns** of different assets. It is essential for **portfolio diversification**, as combining assets with low or negative covariance can reduce risk.\n",
        "\n",
        " - **Predictive Analysis :** Covariance is used in regression analysis and other modeling techniques to identify how two variables influence each other, and it is helpful in **predicting one variable** based on another.\n",
        "\n",
        " - **Risk Management :** In risk management and investment strategies, understanding covariance between different assets helps investors in managing risk by choosing assets that are not highly correlated, thereby reducing overall risk in a portfolio.\n",
        "\n",
        "- **Example :** Consider the relationship between **study hours** and **exam scores** in a group of students. We might want to understand how the amount of time spent studying is related to performance on the exam.\n",
        "\n",
        " - **Positive Covariance :** If the covariance between study hours and exam scores is positive, it means that students who study more tend to score higher on the exam, and students who study less tend to score lower.\n",
        "\n",
        " - **Negative Covariance :** If the covariance is negative, it would mean that as study hours increase, exam scores tend to decrease, which could suggest an unusual or counterintuitive relationship (perhaps too much studying leads to fatigue).\n",
        "\n",
        " - **Zero Covariance :** If the covariance is close to zero, it means that study hours and exam scores are unrelated; no consistent pattern is observed between them.\n"
      ],
      "metadata": {
        "id": "k_Nh33twjH-7"
      }
    },
    {
      "cell_type": "markdown",
      "source": [
        "**22.\tWhat does correlation measure in statistics ?**\n",
        "- **Correlation** is a statistical measure that quantifies the **strength** and **direction** of the **linear relationship** between two variables. It helps to determine how closely two variables are related and whether they tend to increase or decrease together.\n",
        "\n",
        "- **Key aspects of Correlation :**\n",
        " - **Strength of the Relationship :**\n",
        "\n",
        "   - **Strong correlation :** The variables move together in a consistent way (either both increase or both decrease).\n",
        "\n",
        "   - **Weak correlation :** The variables show little to no consistent relationship.\n",
        "\n",
        " - **Direction of the Relationship :**\n",
        "\n",
        "   - **Positive correlation :** When one variable increases, the other tends to increase as well.\n",
        "\n",
        "   - **Negative correlation :** When one variable increases, the other tends to decrease.\n",
        "\n",
        " - **Magnitude :** **(The correlation coefficient (r) ranges from -1 to 1)**\n",
        "\n",
        "   - **+1 :** Perfect positive correlation (both variables increase together in perfect sync).\n",
        "\n",
        "   - **-1 :** Perfect negative correlation (one variable increases while the other decreases in perfect sync).\n",
        "\n",
        "   - **0 :** No linear relationship (the variables are independent of each other).\n",
        "\n",
        "   * Values between **0** and **1** indicate varying degrees of positive correlation.\n",
        "\n",
        "   * Values between **0** and **-1** indicate varying degrees of negative correlation.\n",
        "\n",
        "- **Mathematical Formula for Pearson’s Correlation Coefficient :** The most commonly used method for calculating correlation is **Pearson’s correlation coefficient** (r), which is given by :\n",
        "\n",
        "$$\n",
        "r = \\frac{\\sum{(X_i - \\bar{X})(Y_i - \\bar{Y})}}{\\sqrt{\\sum{(X_i - \\bar{X})^2} \\sum{(Y_i - \\bar{Y})^2}}}\n",
        "$$\n",
        "\n",
        "where :\n",
        "\n",
        "* $X_i$ and $Y_i$ are the individual data points of variables $X$ and $Y$,\n",
        "\n",
        "* $\\bar{X}$ and $\\bar{Y}$ are the means of variables $X$ and $Y$,\n",
        "\n",
        "* The sum is taken over all data points.\n",
        "\n",
        "The result (r) ranges from **-1** to **+1**, with **0** meaning no correlation.\n",
        "\n",
        "- **Interpreting Correlation Coefficients :**\n",
        "\n",
        " - **r = +1 :** Perfect positive correlation. The variables increase together in perfect harmony.\n",
        "\n",
        " - **r = -1 :** Perfect negative correlation. As one variable increases, the other decreases in perfect harmony.\n",
        "\n",
        " - **r = 0 :** No correlation. There is no predictable linear relationship between the two variables.\n",
        "\n",
        " - **r > 0.5 :** Strong positive correlation.\n",
        "\n",
        " - **r < -0.5 :** Strong negative correlation.\n",
        "\n",
        " - **0.3 < r < 0.5 :** Moderate positive correlation.\n",
        "\n",
        " - **-0.3 < r < -0.5 :** Moderate negative correlation.\n",
        "\n",
        " - **r between 0 and 0.3 or -0.3 and 0 :** Weak correlation.\n",
        "\n",
        "- **Significance of Correlation :**\n",
        "\n",
        " - **Predictive Relationships :** Correlation allows us to predict the behavior of one variable based on another. For example, if there is a strong positive correlation between hours of study and exam scores, you can predict higher scores with more study time.\n",
        "\n",
        " - **Identifying Relationships :** It helps to identify and quantify the strength of relationships between two variables. Understanding these relationships is critical in areas like finance, economics, and social sciences.\n",
        "\n",
        " - **Basis for Regression Analysis :** Correlation is a foundational concept in **regression analysis**, where one variable (dependent) is predicted based on the relationship with another (independent). A high correlation means that one variable can be a good predictor for the other.\n",
        "\n",
        " - **Risk Management :** In finance, correlation is used to understand how different assets behave relative to each other, which is essential for portfolio diversification and risk management.\n",
        "\n",
        " - **Causation vs. Correlation :**\n",
        "\n",
        "   **Important Note :** Correlation does not imply **causation**. Just because two variables are correlated does not mean that one variable causes the other to change. For example, there may be a correlation between ice cream sales and the number of drowning accidents, but one does not cause the other (both are likely related to a third factor like hot weather).\n",
        "\n",
        "- **Example of Positive Correlation :**\n",
        "\n",
        " - **Study Hours and Exam Scores :**\n",
        "\n",
        "   - Suppose we collect data on the number of hours students study and their corresponding exam scores.\n",
        "\n",
        "   - If the correlation coefficient (r) is **0.85**, it indicates a strong **positive correlation** — as study hours increase, exam scores tend to increase as well.\n",
        "\n",
        "- **Example of Negative Correlation :**\n",
        "\n",
        " - **Temperature and Hot Chocolate Sales :**\n",
        "\n",
        "   - Imagine we have data on daily temperatures and the number of cups of hot chocolate sold each day.\n",
        "\n",
        "   - If the correlation coefficient (r) is **-0.70**, this suggests a strong **negative correlation** — as the temperature increases, hot chocolate sales decrease.\n",
        "\n",
        "\n",
        "- **Correlation** measures the **strength** and **direction** of a **linear relationship** between two variables.\n",
        "\n",
        "- It helps to **understand relationships** between variables and **predict outcomes** based on those relationships.\n",
        "\n",
        "- Correlation values range from **-1** (perfect negative correlation) to **+1** (perfect positive correlation), with **0** indicating no linear relationship.\n",
        "\n",
        "- **Important :** **Correlation** does not imply causation; even if two variables are correlated, it does not mean that one causes the other to change.\n"
      ],
      "metadata": {
        "id": "0l2jF5J-lw_c"
      }
    },
    {
      "cell_type": "markdown",
      "source": [
        "**23.\tWhat is the difference between covariance and correlation ?**\n",
        "- Covariance and correlation are both measures of the relationship between two variables, but they differ in scale and interpretation :\n",
        "\n",
        "- **Covariance :**\n",
        "\n",
        "   - Measures the **direction** of the linear relationship between two variables.\n",
        "\n",
        "   - It indicates whether the variables tend to increase or decrease together (positive covariance) or if one increases while the other decreases (negative covariance).\n",
        "\n",
        "   - The magnitude of covariance depends on the units of the variables, making it difficult to compare across different data sets.\n",
        "\n",
        "   - **Formula :**\n",
        "\n",
        "   $$\n",
        "   \\text{Cov}(X, Y) = \\frac{1}{n} \\sum (X_i - \\bar{X})(Y_i - \\bar{Y})\n",
        "   $$\n",
        "\n",
        "   where $X_i$ and $Y_i$ are the individual data points, and $\\bar{X}$ and $\\bar{Y}$ are the means of the respective variables.\n",
        "\n",
        "- **Correlation :**\n",
        "\n",
        "   - Measures both the **direction** and the **strength** of the linear relationship between two variables.\n",
        "\n",
        "   - Unlike covariance, correlation is **scale-invariant**. It standardizes the relationship by dividing the covariance by the product of the standard deviations of the two variables, resulting in a value between -1 and 1.\n",
        "\n",
        "     - A correlation of **1** indicates a perfect positive linear relationship.\n",
        "     \n",
        "     - A correlation of **-1** indicates a perfect negative linear relationship.\n",
        "     \n",
        "     - A correlation of **0** indicates no linear relationship.\n",
        "\n",
        "   - **Formula :**\n",
        "\n",
        "   $$\n",
        "   \\text{Correlation} = \\frac{\\text{Cov}(X, Y)}{\\sigma_X \\sigma_Y}\n",
        "   $$\n",
        "\n",
        "   where $\\sigma_X$ and $\\sigma_Y$ are the standard deviations of the respective variables.\n",
        "\n",
        "- **Key Differences :**\n",
        "\n",
        " - **Scale :** Covariance is unstandardized, and its value depends on the units of measurement of the variables. Correlation, on the other hand, is always between -1 and 1, making it easier to interpret and compare across different data sets.\n",
        "\n",
        " - **Interpretation :** Covariance only indicates the direction of the relationship, while correlation indicates both the direction and the strength of the relationship.\n",
        "\n",
        "- In short, covariance gives us an idea of how two variables move together, while correlation tells us both the direction and the strength of their relationship."
      ],
      "metadata": {
        "id": "R8w4Y2PbpZ20"
      }
    },
    {
      "cell_type": "markdown",
      "source": [
        "**24.\tWhat are some real-world applications of statistics ?**\n",
        "\n",
        "- Statistics plays a crucial role in many fields, providing insights that guide decision-making, policy, and strategy. Here are some key real-world applications :\n",
        "\n",
        "- **Healthcare and Medicine :**\n",
        "\n",
        " - **Clinical Trials :** Statistics are used to determine the effectiveness of new drugs or treatments by comparing treatment groups and placebo groups.\n",
        "\n",
        " - **Epidemiology :** Used to track disease outbreaks, determine risk factors, and model the spread of diseases (e.g., COVID-19 models).\n",
        "\n",
        " - **Medical Research :** Helps in understanding the relationship between lifestyle factors and health outcomes (e.g., smoking and lung cancer risk).\n",
        "\n",
        " - **Public Health Policy :** Statistical analysis of data on vaccination rates, mortality rates, and other public health issues informs policy and intervention strategies.\n",
        "\n",
        "- **Business and Marketing :**\n",
        "\n",
        " - **Market Research :** Statistics are used to understand consumer behavior, preferences, and trends. Surveys, focus groups, and experiments help companies design products and marketing strategies.\n",
        "\n",
        " - **Customer Segmentation :** Businesses use clustering techniques to group customers based on buying behavior, demographics, and other factors to personalize marketing efforts.\n",
        "\n",
        " - **Sales Forecasting :** Companies use historical data to predict future sales and adjust inventory levels, pricing strategies, and resource allocation accordingly.\n",
        "\n",
        " - **A/B Testing :** Used to compare different versions of a product, website, or advertisement to identify which one performs better.\n",
        "\n",
        "- **Finance and Economics :**\n",
        "\n",
        " - **Risk Management :** Financial institutions use statistics to evaluate and manage risk, such as assessing the volatility of stock prices or the likelihood of default on loans.\n",
        "\n",
        " - **Stock Market Analysis :** Statistical models help investors analyze market trends, predict stock prices, and make informed investment decisions.\n",
        "\n",
        " - **Economic Forecasting :** Economists use statistical data to predict trends like GDP growth, inflation, unemployment rates, and other economic indicators.\n",
        "\n",
        " - **Insurance :** Insurance companies use statistics to calculate premiums, assess risks, and estimate claims payouts.\n",
        "\n",
        "- **Sports Analytics :**\n",
        "\n",
        " - **Player Performance Analysis :** Teams use statistics to evaluate player performance, optimize team strategies, and make data-driven decisions about player acquisitions and game tactics.\n",
        "\n",
        " - **Game Strategy :** Coaches and analysts use statistics to devise strategies based on opponent weaknesses and performance metrics (e.g., football teams analyzing passing efficiency or basketball teams tracking shooting accuracy).\n",
        "\n",
        " - **Fan Engagement :** Sports marketers analyze data on fan preferences, ticket sales, and merchandise purchases to improve customer engagement.\n",
        "\n",
        "- **Government and Social Sciences :**\n",
        "\n",
        " - **Census Data :** Governments collect data to understand population demographics, which guides policy-making, resource allocation, and planning.\n",
        "\n",
        " - **Public Opinion Polls :** Polls are conducted to measure public sentiment on issues like elections, policies, and social topics.\n",
        "\n",
        " - **Crime Statistics :** Used to understand crime trends, allocate resources to law enforcement, and inform public safety strategies.\n",
        "\n",
        " - **Education :** Statistics are used to evaluate educational programs, student performance, and funding allocation.\n",
        "\n",
        "- **Environmental Science :**\n",
        "\n",
        " - **Climate Change Models :** Statistics are used to analyze environmental data, predict future climate patterns, and assess the impact of human activities on global warming.\n",
        "\n",
        " - **Wildlife Conservation :** Statisticians analyze animal population data to guide conservation efforts and measure the success of preservation programs.\n",
        "\n",
        " - **Pollution and Resource Management :** Statistics are used to track pollution levels, manage natural resources, and assess environmental risks.\n",
        "\n",
        "- **Technology and Artificial Intelligence :**\n",
        "\n",
        " - **Machine Learning :** Statistics underpins many machine learning algorithms that help computers recognize patterns, make predictions, and improve over time (e.g., recommendation systems in Netflix or Amazon).\n",
        "\n",
        " - **Data Analytics :** Companies analyze user behavior and large datasets (big data) to make decisions and improve services (e.g., Google, Facebook).\n",
        "\n",
        " - **Algorithm Development :** Statisticians help design algorithms that optimize processes, from self-driving cars to financial trading systems.\n",
        "\n",
        "- **Manufacturing and Quality Control :**\n",
        "\n",
        " - **Process Improvement :** Statistical tools like Six Sigma and control charts help companies monitor production processes, detect defects, and improve product quality.\n",
        "\n",
        " - **Supply Chain Management :** Statistical forecasting models are used to predict demand, optimize inventory, and streamline the production and distribution process.\n",
        "\n",
        " - **Reliability Testing :** Statistics are used to predict the lifespan of products, ensuring they meet quality standards and customer expectations.\n",
        "\n",
        "- **Psychology and Behavioral Science :**\n",
        "\n",
        " - **Psychological Testing :** Statistics are used to analyze the reliability and validity of psychological tests (e.g., IQ tests, personality assessments).\n",
        "\n",
        " - **Behavioral Research :** Statistical methods help in studying human behavior, cognitive processes, and mental health disorders, leading to better treatment methods.\n",
        "\n",
        "- **Education :**\n",
        "\n",
        " - **Student Assessment :** Statistical methods are used to analyze test results, determine academic progress, and identify areas for improvement in students' learning.\n",
        "\n",
        " - **Educational Research :** Statisticians analyze data from schools and universities to understand educational trends, teacher effectiveness, and the impact of policies.\n",
        "\n",
        "- **Transportation and Logistics :**\n",
        "\n",
        " - **Traffic Analysis :** Traffic patterns, congestion, and accident rates are studied using statistics to improve road design, traffic flow, and public transportation systems.\n",
        "\n",
        " - **Route Optimization :** Companies use statistical models to optimize delivery routes, reducing costs and improving efficiency.\n",
        "\n",
        "- These are just a few of the many ways in which statistics is applied in the real world to guide decisions, improve outcomes, and solve problems across various domains."
      ],
      "metadata": {
        "id": "7OC0BL_eqaWT"
      }
    },
    {
      "cell_type": "markdown",
      "source": [
        "**PRACTICAL QUESTIONS**"
      ],
      "metadata": {
        "id": "i2Ht1TZmdlYB"
      }
    },
    {
      "cell_type": "markdown",
      "source": [
        "**1. How do you calculate the mean, median, and mode of a dataset ?**"
      ],
      "metadata": {
        "id": "GbVsqb7bBzMh"
      }
    },
    {
      "cell_type": "code",
      "source": [
        "import statistics\n",
        "\n",
        "# Sample dataset\n",
        "data = [10, 20, 30, 40, 40, 50]\n",
        "\n",
        "# Mean\n",
        "mean = statistics.mean(data)\n",
        "\n",
        "# Median\n",
        "median = statistics.median(data)\n",
        "\n",
        "# Mode\n",
        "mode = statistics.mode(data)\n",
        "\n",
        "print(\"Mean:\", mean)\n",
        "print(\"Median:\", median)\n",
        "print(\"Mode:\", mode)"
      ],
      "metadata": {
        "colab": {
          "base_uri": "https://localhost:8080/"
        },
        "id": "ZvyljUHtE6d9",
        "outputId": "d2266acb-14c9-4cfe-fe74-6d1d9e32fee5"
      },
      "execution_count": 1,
      "outputs": [
        {
          "output_type": "stream",
          "name": "stdout",
          "text": [
            "Mean: 31.666666666666668\n",
            "Median: 35.0\n",
            "Mode: 40\n"
          ]
        }
      ]
    },
    {
      "cell_type": "markdown",
      "source": [
        "**2. Write a Python program to compute the variance and standard deviation of a datas**et."
      ],
      "metadata": {
        "id": "KkcaDWgpBzHo"
      }
    },
    {
      "cell_type": "code",
      "source": [
        "import math\n",
        "\n",
        "def calculate_mean(data):\n",
        "    return sum(data) / len(data)\n",
        "\n",
        "def calculate_variance(data):\n",
        "    mean = calculate_mean(data)\n",
        "    return sum((x - mean) ** 2 for x in data) / len(data)\n",
        "\n",
        "def calculate_std_deviation(data):\n",
        "    variance = calculate_variance(data)\n",
        "    return math.sqrt(variance)\n",
        "\n",
        "# Example dataset\n",
        "dataset = [10, 12, 23, 23, 16, 23, 21, 16]\n",
        "\n",
        "mean = calculate_mean(dataset)\n",
        "variance = calculate_variance(dataset)\n",
        "std_dev = calculate_std_deviation(dataset)\n",
        "\n",
        "print(f\"Mean: {mean}\")\n",
        "print(f\"Variance: {variance}\")\n",
        "print(f\"Standard Deviation: {std_dev}\")"
      ],
      "metadata": {
        "colab": {
          "base_uri": "https://localhost:8080/"
        },
        "id": "VvqnchAdFOY1",
        "outputId": "2e927997-a8f9-4a71-96b0-39a3e1516d2e"
      },
      "execution_count": 2,
      "outputs": [
        {
          "output_type": "stream",
          "name": "stdout",
          "text": [
            "Mean: 18.0\n",
            "Variance: 24.0\n",
            "Standard Deviation: 4.898979485566356\n"
          ]
        }
      ]
    },
    {
      "cell_type": "markdown",
      "source": [
        "**3. Create a dataset and classify it into nominal, ordinal, interval, and ratio types.**"
      ],
      "metadata": {
        "id": "0tbvdV2RBzDC"
      }
    },
    {
      "cell_type": "code",
      "source": [
        "import pandas as pd\n",
        "from pandas.api.types import CategoricalDtype\n",
        "\n",
        "# Sample dataset\n",
        "data = {\n",
        "    'Name': ['Alice', 'Bob', 'Charlie', 'David'],                         # Nominal\n",
        "    'Education_Level': ['High School', 'Bachelor', 'Master', 'PhD'],     # Ordinal\n",
        "    'Temperature_C': [22, 25, 20, 23],                                    # Interval\n",
        "    'Salary_USD': [50000, 60000, 55000, 70000]                            # Ratio\n",
        "}\n",
        "\n",
        "# Create DataFrame\n",
        "df = pd.DataFrame(data)\n",
        "\n",
        "# Define the ordinal scale for education\n",
        "education_order = CategoricalDtype(\n",
        "    categories=['High School', 'Bachelor', 'Master', 'PhD'], ordered=True\n",
        ")\n",
        "df['Education_Level'] = df['Education_Level'].astype(education_order)\n",
        "\n",
        "# Display DataFrame with data types\n",
        "print(df)\n",
        "print(\"\\nData Types:\")\n",
        "print(df.dtypes)"
      ],
      "metadata": {
        "colab": {
          "base_uri": "https://localhost:8080/"
        },
        "id": "H83y8YuDFn8d",
        "outputId": "7a962283-f3c8-4ba4-c4ab-78916a74d37a"
      },
      "execution_count": 3,
      "outputs": [
        {
          "output_type": "stream",
          "name": "stdout",
          "text": [
            "      Name Education_Level  Temperature_C  Salary_USD\n",
            "0    Alice     High School             22       50000\n",
            "1      Bob        Bachelor             25       60000\n",
            "2  Charlie          Master             20       55000\n",
            "3    David             PhD             23       70000\n",
            "\n",
            "Data Types:\n",
            "Name                 object\n",
            "Education_Level    category\n",
            "Temperature_C         int64\n",
            "Salary_USD            int64\n",
            "dtype: object\n"
          ]
        }
      ]
    },
    {
      "cell_type": "markdown",
      "source": [
        "**4. Implement sampling techniques like random sampling and stratified sampling.**"
      ],
      "metadata": {
        "id": "Yl2g1hjZBy-D"
      }
    },
    {
      "cell_type": "code",
      "source": [
        "# Setup: Sample Data\n",
        "\n",
        "import pandas as pd\n",
        "import numpy as np\n",
        "from sklearn.model_selection import train_test_split\n",
        "\n",
        "# Create sample dataset\n",
        "data = pd.DataFrame({\n",
        "    'ID': range(1, 21),\n",
        "    'Gender': np.random.choice(['Male', 'Female'], size=20),\n",
        "    'Age': np.random.randint(18, 60, size=20),\n",
        "    'Income': np.random.randint(30000, 80000, size=20)\n",
        "})\n",
        "\n",
        "print(\"Original Dataset:\")\n",
        "print(data)\n",
        "\n",
        "\n",
        "# Random Sampling\n",
        "# Random sampling: select 5 random rows\n",
        "random_sample = data.sample(n=5, random_state=1)\n",
        "\n",
        "print(\"\\nRandom Sample:\")\n",
        "print(random_sample)\n",
        "\n",
        "\n",
        "# Stratified Sampling*\n",
        "# Stratified sampling based on 'Gender'\n",
        "train, stratified_sample = train_test_split(\n",
        "    data,\n",
        "    test_size=0.25,  # 25% sample\n",
        "    stratify=data['Gender'],\n",
        "    random_state=1\n",
        ")\n",
        "\n",
        "print(\"\\nStratified Sample (by Gender):\")\n",
        "print(stratified_sample)"
      ],
      "metadata": {
        "colab": {
          "base_uri": "https://localhost:8080/"
        },
        "id": "E2uu1-d7FxZF",
        "outputId": "37b896f3-3206-42b4-cfe0-8ad69341c09e"
      },
      "execution_count": 5,
      "outputs": [
        {
          "output_type": "stream",
          "name": "stdout",
          "text": [
            "Original Dataset:\n",
            "    ID  Gender  Age  Income\n",
            "0    1  Female   54   74651\n",
            "1    2    Male   55   79591\n",
            "2    3    Male   51   33343\n",
            "3    4    Male   40   45792\n",
            "4    5    Male   39   33714\n",
            "5    6  Female   43   67265\n",
            "6    7    Male   51   79548\n",
            "7    8    Male   28   64427\n",
            "8    9  Female   20   41460\n",
            "9   10  Female   49   66731\n",
            "10  11    Male   56   45089\n",
            "11  12    Male   33   41053\n",
            "12  13  Female   59   38851\n",
            "13  14    Male   29   69438\n",
            "14  15  Female   43   74193\n",
            "15  16  Female   19   50967\n",
            "16  17    Male   48   54501\n",
            "17  18    Male   55   76021\n",
            "18  19    Male   56   54020\n",
            "19  20    Male   31   40030\n",
            "\n",
            "Random Sample:\n",
            "    ID Gender  Age  Income\n",
            "3    4   Male   40   45792\n",
            "16  17   Male   48   54501\n",
            "6    7   Male   51   79548\n",
            "10  11   Male   56   45089\n",
            "2    3   Male   51   33343\n",
            "\n",
            "Stratified Sample (by Gender):\n",
            "    ID  Gender  Age  Income\n",
            "18  19    Male   56   54020\n",
            "9   10  Female   49   66731\n",
            "7    8    Male   28   64427\n",
            "1    2    Male   55   79591\n",
            "14  15  Female   43   74193\n"
          ]
        }
      ]
    },
    {
      "cell_type": "markdown",
      "source": [
        "- This code :\n",
        " - Randomly generates a dataset of 20 individuals.\n",
        "\n",
        " - Takes a random sample of 5 records.\n",
        "\n",
        " - Takes a stratified sample ensuring the gender distribution is preserved."
      ],
      "metadata": {
        "id": "M7pVw58WGTyF"
      }
    },
    {
      "cell_type": "markdown",
      "source": [
        "**5. Write a Python function to calculate the range of a dataset.**"
      ],
      "metadata": {
        "id": "c_aL1aZTBy5T"
      }
    },
    {
      "cell_type": "code",
      "source": [
        "def calculate_range(data):\n",
        "    if not data:\n",
        "        return None  # Handle empty list\n",
        "    return max(data) - min(data)\n",
        "\n",
        "# Example usage\n",
        "dataset = [10, 22, 35, 47, 18, 29]\n",
        "data_range = calculate_range(dataset)\n",
        "print(f\"Range of the dataset: {data_range}\")"
      ],
      "metadata": {
        "colab": {
          "base_uri": "https://localhost:8080/"
        },
        "id": "_EJ9LFCmFx7c",
        "outputId": "bc0edf3a-19a1-4bb6-b623-a69a4ae80c17"
      },
      "execution_count": 6,
      "outputs": [
        {
          "output_type": "stream",
          "name": "stdout",
          "text": [
            "Range of the dataset: 37\n"
          ]
        }
      ]
    },
    {
      "cell_type": "markdown",
      "source": [
        "**6. Create a dataset and plot its histogram to visualize skewness.**"
      ],
      "metadata": {
        "id": "YCooWCz0By1T"
      }
    },
    {
      "cell_type": "code",
      "source": [
        "import numpy as np\n",
        "import matplotlib.pyplot as plt\n",
        "import seaborn as sns\n",
        "\n",
        "# Create a right-skewed dataset using exponential distribution\n",
        "np.random.seed(42)\n",
        "data = np.random.exponential(scale=2.0, size=1000)\n",
        "\n",
        "# Plot histogram\n",
        "plt.figure(figsize=(8, 5))\n",
        "sns.histplot(data, bins=30, kde=True, color='skyblue')\n",
        "plt.title('Histogram to Visualize Skewness')\n",
        "plt.xlabel('Value')\n",
        "plt.ylabel('Frequency')\n",
        "plt.grid(True)\n",
        "plt.show()"
      ],
      "metadata": {
        "colab": {
          "base_uri": "https://localhost:8080/",
          "height": 487
        },
        "id": "XVJMthd8FyTU",
        "outputId": "21199b04-1a1c-46fd-8229-ad0d2daab1e6"
      },
      "execution_count": 7,
      "outputs": [
        {
          "output_type": "display_data",
          "data": {
            "text/plain": [
              "<Figure size 800x500 with 1 Axes>"
            ],
            "image/png": "[encoded data removed]"
          },
          "metadata": {}
        }
      ]
    },
    {
      "cell_type": "markdown",
      "source": [
        "**7. Calculate skewness and kurtosis of a dataset using Python libraries.**"
      ],
      "metadata": {
        "id": "LVOpQQcdBywb"
      }
    },
    {
      "cell_type": "code",
      "source": [
        "import numpy as np\n",
        "import pandas as pd\n",
        "from scipy.stats import skew, kurtosis\n",
        "\n",
        "# Example dataset (right-skewed)\n",
        "np.random.seed(42)\n",
        "data = np.random.exponential(scale=2.0, size=1000)\n",
        "\n",
        "# Using scipy\n",
        "data_skew = skew(data)\n",
        "data_kurt = kurtosis(data)  # By default, this is excess kurtosis (normal = 0)\n",
        "\n",
        "# Using pandas (for comparison)\n",
        "series = pd.Series(data)\n",
        "pandas_skew = series.skew()\n",
        "pandas_kurt = series.kurt()\n",
        "\n",
        "print(f\"Skewness (scipy): {data_skew:.4f}\")\n",
        "print(f\"Kurtosis (scipy): {data_kurt:.4f}\")\n",
        "print(f\"Skewness (pandas): {pandas_skew:.4f}\")\n",
        "print(f\"Kurtosis (pandas): {pandas_kurt:.4f}\")"
      ],
      "metadata": {
        "colab": {
          "base_uri": "https://localhost:8080/"
        },
        "id": "_iE9pHtcFyuc",
        "outputId": "9a750205-9590-41eb-99e0-9b069350b624"
      },
      "execution_count": 8,
      "outputs": [
        {
          "output_type": "stream",
          "name": "stdout",
          "text": [
            "Skewness (scipy): 1.8650\n",
            "Kurtosis (scipy): 5.2178\n",
            "Skewness (pandas): 1.8678\n",
            "Kurtosis (pandas): 5.2500\n"
          ]
        }
      ]
    },
    {
      "cell_type": "markdown",
      "source": [
        "**8. Generate a dataset and demonstrate positive and negative skewness.**"
      ],
      "metadata": {
        "id": "evkZkaZfByrs"
      }
    },
    {
      "cell_type": "code",
      "source": [
        "import numpy as np\n",
        "import matplotlib.pyplot as plt\n",
        "import seaborn as sns\n",
        "from scipy.stats import skew\n",
        "\n",
        "# Generate positively skewed data (e.g., exponential distribution)\n",
        "np.random.seed(1)\n",
        "positive_skew_data = np.random.exponential(scale=2.0, size=1000)\n",
        "\n",
        "# Generate negatively skewed data by inverting a positively skewed distribution\n",
        "negative_skew_data = -np.random.exponential(scale=2.0, size=1000)\n",
        "\n",
        "# Calculate skewness\n",
        "pos_skew_value = skew(positive_skew_data)\n",
        "neg_skew_value = skew(negative_skew_data)\n",
        "\n",
        "# Plotting\n",
        "fig, axes = plt.subplots(1, 2, figsize=(12, 5))\n",
        "\n",
        "# Positive skew\n",
        "sns.histplot(positive_skew_data, bins=30, kde=True, ax=axes[0], color='skyblue')\n",
        "axes[0].set_title(f'Positive Skewness (Skew = {pos_skew_value:.2f})')\n",
        "axes[0].set_xlabel('Value')\n",
        "axes[0].set_ylabel('Frequency')\n",
        "\n",
        "# Negative skew\n",
        "sns.histplot(negative_skew_data, bins=30, kde=True, ax=axes[1], color='salmon')\n",
        "axes[1].set_title(f'Negative Skewness (Skew = {neg_skew_value:.2f})')\n",
        "axes[1].set_xlabel('Value')\n",
        "axes[1].set_ylabel('Frequency')\n",
        "\n",
        "plt.tight_layout()\n",
        "plt.show()"
      ],
      "metadata": {
        "colab": {
          "base_uri": "https://localhost:8080/",
          "height": 328
        },
        "id": "xApXsEmTFzH0",
        "outputId": "7514b175-24c6-4564-cde0-e9e8deec90d7"
      },
      "execution_count": 9,
      "outputs": [
        {
          "output_type": "display_data",
          "data": {
            "text/plain": [
              "<Figure size 1200x500 with 2 Axes>"
            ],
            "image/png": "[encoded data removed]"
          },
          "metadata": {}
        }
      ]
    },
    {
      "cell_type": "markdown",
      "source": [
        "**9. Write a Python script to calculate covariance between two datasets.**"
      ],
      "metadata": {
        "id": "DxMJJ-tuBynH"
      }
    },
    {
      "cell_type": "code",
      "source": [
        "import numpy as np\n",
        "\n",
        "# Sample datasets\n",
        "x = [2, 4, 6, 8, 10]\n",
        "y = [1, 3, 5, 7, 9]\n",
        "\n",
        "# Manual calculation of covariance\n",
        "def calculate_covariance(x, y):\n",
        "    if len(x) != len(y):\n",
        "        raise ValueError(\"Datasets must be of equal length\")\n",
        "    n = len(x)\n",
        "    mean_x = sum(x) / n\n",
        "    mean_y = sum(y) / n\n",
        "    covariance = sum((x[i] - mean_x) * (y[i] - mean_y) for i in range(n)) / n\n",
        "    return covariance\n",
        "\n",
        "# Using numpy\n",
        "np_covariance = np.cov(x, y, bias=True)[0][1]  # bias=True for population covariance\n",
        "\n",
        "# Output\n",
        "manual_cov = calculate_covariance(x, y)\n",
        "print(f\"Covariance (manual calculation): {manual_cov}\")\n",
        "print(f\"Covariance (NumPy): {np_covariance}\")"
      ],
      "metadata": {
        "colab": {
          "base_uri": "https://localhost:8080/"
        },
        "id": "jpMQeDW2Fzgl",
        "outputId": "3203b120-71af-4241-e965-155490da2498"
      },
      "execution_count": 10,
      "outputs": [
        {
          "output_type": "stream",
          "name": "stdout",
          "text": [
            "Covariance (manual calculation): 8.0\n",
            "Covariance (NumPy): 8.0\n"
          ]
        }
      ]
    },
    {
      "cell_type": "markdown",
      "source": [
        "**10. Write a Python script to calculate the correlation coefficient between two datasets.**"
      ],
      "metadata": {
        "id": "XEakph3KByiz"
      }
    },
    {
      "cell_type": "code",
      "source": [
        "import numpy as np\n",
        "\n",
        "# Sample datasets\n",
        "x = [2, 4, 6, 8, 10]\n",
        "y = [1, 3, 5, 7, 9]\n",
        "\n",
        "# Manual calculation of Pearson correlation coefficient\n",
        "def calculate_correlation(x, y):\n",
        "    if len(x) != len(y):\n",
        "        raise ValueError(\"Datasets must be of equal length\")\n",
        "    n = len(x)\n",
        "    mean_x = sum(x) / n\n",
        "    mean_y = sum(y) / n\n",
        "\n",
        "    numerator = sum((x[i] - mean_x) * (y[i] - mean_y) for i in range(n))\n",
        "    denominator = (sum((x[i] - mean_x)**2 for i in range(n)) *\n",
        "                   sum((y[i] - mean_y)**2 for i in range(n))) ** 0.5\n",
        "\n",
        "    return numerator / denominator\n",
        "\n",
        "# Using NumPy\n",
        "np_corr = np.corrcoef(x, y)[0][1]\n",
        "\n",
        "# Output\n",
        "manual_corr = calculate_correlation(x, y)\n",
        "print(f\"Correlation Coefficient (manual): {manual_corr}\")\n",
        "print(f\"Correlation Coefficient (NumPy): {np_corr}\")"
      ],
      "metadata": {
        "colab": {
          "base_uri": "https://localhost:8080/"
        },
        "id": "aHvAFFllFz6s",
        "outputId": "31bdcf02-e06d-4962-e71e-9ad3288444f6"
      },
      "execution_count": 11,
      "outputs": [
        {
          "output_type": "stream",
          "name": "stdout",
          "text": [
            "Correlation Coefficient (manual): 1.0\n",
            "Correlation Coefficient (NumPy): 0.9999999999999999\n"
          ]
        }
      ]
    },
    {
      "cell_type": "markdown",
      "source": [
        "**11. Create a scatter plot to visualize the relationship between two variables.**"
      ],
      "metadata": {
        "id": "yDzMjGBTByeG"
      }
    },
    {
      "cell_type": "code",
      "source": [
        "import matplotlib.pyplot as plt\n",
        "import seaborn as sns\n",
        "\n",
        "# Sample datasets\n",
        "x = [2, 4, 6, 8, 10]\n",
        "y = [1, 3, 5, 7, 9]\n",
        "\n",
        "# Create a scatter plot\n",
        "plt.figure(figsize=(8, 5))\n",
        "sns.scatterplot(x=x, y=y, color='blue', s=100)\n",
        "\n",
        "# Add a regression line\n",
        "sns.regplot(x=x, y=y, scatter=False, color='red')\n",
        "\n",
        "# Titles and labels\n",
        "plt.title('Scatter Plot of X vs Y with Regression Line', fontsize=16)\n",
        "plt.xlabel('X Values', fontsize=12)\n",
        "plt.ylabel('Y Values', fontsize=12)\n",
        "plt.grid(True)\n",
        "\n",
        "# Show plot\n",
        "plt.show()"
      ],
      "metadata": {
        "colab": {
          "base_uri": "https://localhost:8080/",
          "height": 493
        },
        "id": "fifSgoCwG-EM",
        "outputId": "9ef27bef-8f03-4ce8-bf3c-0500b69dad3f"
      },
      "execution_count": 12,
      "outputs": [
        {
          "output_type": "display_data",
          "data": {
            "text/plain": [
              "<Figure size 800x500 with 1 Axes>"
            ],
            "image/png": "[encoded data removed]"
          },
          "metadata": {}
        }
      ]
    },
    {
      "cell_type": "markdown",
      "source": [
        "**12. Implement and compare simple random sampling and systematic sampling.**"
      ],
      "metadata": {
        "id": "npl2liqCByZr"
      }
    },
    {
      "cell_type": "code",
      "source": [
        "import numpy as np\n",
        "import pandas as pd\n",
        "import matplotlib.pyplot as plt\n",
        "\n",
        "# Create a sample dataset (100 data points)\n",
        "np.random.seed(42)\n",
        "data = np.random.randint(1, 100, size=100)\n",
        "\n",
        "# Simple Random Sampling (without replacement)\n",
        "def simple_random_sampling(data, sample_size):\n",
        "    return np.random.choice(data, size=sample_size, replace=False)\n",
        "\n",
        "# Systematic Sampling\n",
        "def systematic_sampling(data, sample_size):\n",
        "    interval = len(data) // sample_size\n",
        "    start = np.random.randint(0, interval)  # Randomly choose starting point\n",
        "    sample = [data[i] for i in range(start, len(data), interval)]\n",
        "    return sample[:sample_size]\n",
        "\n",
        "# Sample size\n",
        "sample_size = 10\n",
        "\n",
        "# Perform Simple Random Sampling\n",
        "random_sample = simple_random_sampling(data, sample_size)\n",
        "\n",
        "# Perform Systematic Sampling\n",
        "systematic_sample = systematic_sampling(data, sample_size)\n",
        "\n",
        "# Display results\n",
        "print(\"Original Data:\")\n",
        "print(data[:20])  # Print first 20 values for reference\n",
        "print(\"\\nSimple Random Sample:\")\n",
        "print(random_sample)\n",
        "print(\"\\nSystematic Sample:\")\n",
        "print(systematic_sample)\n",
        "\n",
        "# Visualize the samples\n",
        "plt.figure(figsize=(10, 5))\n",
        "\n",
        "# Plotting the Simple Random Sample\n",
        "plt.subplot(1, 2, 1)\n",
        "plt.scatter(range(sample_size), random_sample, color='blue', label='Random Sample')\n",
        "plt.title('Simple Random Sampling')\n",
        "plt.xlabel('Index')\n",
        "plt.ylabel('Sample Value')\n",
        "plt.grid(True)\n",
        "\n",
        "# Plotting the Systematic Sample\n",
        "plt.subplot(1, 2, 2)\n",
        "plt.scatter(range(sample_size), systematic_sample, color='green', label='Systematic Sample')\n",
        "plt.title('Systematic Sampling')\n",
        "plt.xlabel('Index')\n",
        "plt.ylabel('Sample Value')\n",
        "plt.grid(True)\n",
        "\n",
        "plt.tight_layout()\n",
        "plt.show()"
      ],
      "metadata": {
        "colab": {
          "base_uri": "https://localhost:8080/",
          "height": 553
        },
        "id": "j9mMuVsUG-e1",
        "outputId": "ec4e5d97-8022-4537-df4a-3b7d8c047999"
      },
      "execution_count": 13,
      "outputs": [
        {
          "output_type": "stream",
          "name": "stdout",
          "text": [
            "Original Data:\n",
            "[52 93 15 72 61 21 83 87 75 75 88 24  3 22 53  2 88 30 38  2]\n",
            "\n",
            "Simple Random Sample:\n",
            "[33 18 90 62  2  2 54 62 30 89]\n",
            "\n",
            "Systematic Sample:\n",
            "[np.int64(87), np.int64(30), np.int64(89), np.int64(62), np.int64(73), np.int64(2), np.int64(81), np.int64(63), np.int64(15), np.int64(24)]\n"
          ]
        },
        {
          "output_type": "display_data",
          "data": {
            "text/plain": [
              "<Figure size 1000x500 with 2 Axes>"
            ],
            "image/png": "[encoded data removed]"
          },
          "metadata": {}
        }
      ]
    },
    {
      "cell_type": "markdown",
      "source": [
        "**13. Calculate the mean, median, and mode of grouped data.**"
      ],
      "metadata": {
        "id": "NvmTKdA7ByU7"
      }
    },
    {
      "cell_type": "code",
      "source": [
        "import pandas as pd\n",
        "\n",
        "# Grouped data example\n",
        "data = {\n",
        "    'Class Interval': ['0-10', '10-20', '20-30', '30-40', '40-50'],\n",
        "    'Frequency': [5, 12, 18, 10, 5]\n",
        "}\n",
        "\n",
        "# Convert to DataFrame\n",
        "df = pd.DataFrame(data)\n",
        "\n",
        "# Extract class intervals and frequencies\n",
        "class_intervals = df['Class Interval']\n",
        "frequencies = df['Frequency']\n",
        "\n",
        "# Calculate midpoints of the class intervals\n",
        "midpoints = []\n",
        "for interval in class_intervals:\n",
        "    lower, upper = map(int, interval.split('-'))\n",
        "    midpoints.append((lower + upper) / 2)\n",
        "\n",
        "df['Midpoint'] = midpoints\n",
        "\n",
        "# Mean Calculation: (f * x) / Σf\n",
        "mean = sum(df['Frequency'] * df['Midpoint']) / sum(df['Frequency'])\n",
        "\n",
        "# Median Calculation:\n",
        "# Calculate cumulative frequency\n",
        "df['Cumulative Frequency'] = df['Frequency'].cumsum()\n",
        "\n",
        "# Find the median class\n",
        "N = sum(df['Frequency'])\n",
        "median_class = df[df['Cumulative Frequency'] >= N / 2].iloc[0]\n",
        "L = int(median_class['Class Interval'].split('-')[0])  # Lower boundary of median class\n",
        "F = df[df['Class Interval'] == median_class['Class Interval']].iloc[0]['Cumulative Frequency'] - median_class['Frequency']\n",
        "f = median_class['Frequency']\n",
        "h = int(median_class['Class Interval'].split('-')[1]) - L  # Class width\n",
        "\n",
        "median = L + ((N / 2 - F) / f) * h\n",
        "\n",
        "# Mode Calculation:\n",
        "# The modal class is the one with the highest frequency\n",
        "mode_class = df[df['Frequency'] == df['Frequency'].max()].iloc[0]\n",
        "L_mode = int(mode_class['Class Interval'].split('-')[0])  # Lower boundary of modal class\n",
        "f1 = mode_class['Frequency']\n",
        "f0 = df[df['Class Interval'] == df.iloc[df['Frequency'].idxmax() - 1]['Class Interval']].iloc[0]['Frequency'] if df['Frequency'].idxmax() > 0 else 0\n",
        "f2 = df[df['Class Interval'] == df.iloc[df['Frequency'].idxmax() + 1]['Class Interval']].iloc[0]['Frequency'] if df['Frequency'].idxmax() < len(df) - 1 else 0\n",
        "h_mode = int(mode_class['Class Interval'].split('-')[1]) - L_mode  # Class width\n",
        "\n",
        "mode = L_mode + ((f1 - f0) / (2 * f1 - f0 - f2)) * h_mode\n",
        "\n",
        "# Output the results\n",
        "print(f\"Mean: {mean:.2f}\")\n",
        "print(f\"Median: {median:.2f}\")\n",
        "print(f\"Mode: {mode:.2f}\")"
      ],
      "metadata": {
        "colab": {
          "base_uri": "https://localhost:8080/"
        },
        "id": "5UTGF5v_G_EF",
        "outputId": "19bb3cd5-dd22-41bd-da9b-47f8fee477ec"
      },
      "execution_count": 14,
      "outputs": [
        {
          "output_type": "stream",
          "name": "stdout",
          "text": [
            "Mean: 24.60\n",
            "Median: 24.44\n",
            "Mode: 24.29\n"
          ]
        }
      ]
    },
    {
      "cell_type": "markdown",
      "source": [
        "**14. Simulate data using Python and calculate its central tendency and dispersion.**"
      ],
      "metadata": {
        "id": "mKJGCviQByQY"
      }
    },
    {
      "cell_type": "code",
      "source": [
        "import numpy as np\n",
        "from scipy import stats\n",
        "\n",
        "# Step 1: Simulate Data\n",
        "np.random.seed(42)  # For reproducibility\n",
        "data = np.random.normal(loc=50, scale=10, size=1000)  # Mean = 50, Standard Deviation = 10, Number of samples = 1000\n",
        "\n",
        "# Step 2: Calculate Central Tendency\n",
        "mean = np.mean(data)\n",
        "median = np.median(data)\n",
        "mode = stats.mode(data).mode\n",
        "\n",
        "# Step 3: Calculate Dispersion\n",
        "variance = np.var(data)\n",
        "std_dev = np.std(data)\n",
        "\n",
        "# Output the results\n",
        "print(f\"Mean: {mean:.2f}\")\n",
        "print(f\"Median: {median:.2f}\")\n",
        "print(f\"Mode: {mode:.2f}\")\n",
        "print(f\"Variance: {variance:.2f}\")\n",
        "print(f\"Standard Deviation: {std_dev:.2f}\")\n",
        "\n",
        "\n",
        "# Visualising the data\n",
        "\n",
        "import matplotlib.pyplot as plt\n",
        "\n",
        "# Step 4: Plotting the histogram\n",
        "plt.figure(figsize=(8, 6))\n",
        "plt.hist(data, bins=30, color='skyblue', edgecolor='black', alpha=0.7)\n",
        "plt.title('Histogram of Simulated Data')\n",
        "plt.xlabel('Value')\n",
        "plt.ylabel('Frequency')\n",
        "plt.grid(True)\n",
        "plt.show()"
      ],
      "metadata": {
        "colab": {
          "base_uri": "https://localhost:8080/",
          "height": 653
        },
        "id": "lnMWAX-HH_8n",
        "outputId": "ac8ad118-4990-4953-c658-6da03e9ffa24"
      },
      "execution_count": 19,
      "outputs": [
        {
          "output_type": "stream",
          "name": "stdout",
          "text": [
            "Mean: 50.19\n",
            "Median: 50.25\n",
            "Mode: 17.59\n",
            "Variance: 95.79\n",
            "Standard Deviation: 9.79\n"
          ]
        },
        {
          "output_type": "display_data",
          "data": {
            "text/plain": [
              "<Figure size 800x600 with 1 Axes>"
            ],
            "image/png": "[encoded data removed]"
          },
          "metadata": {}
        }
      ]
    },
    {
      "cell_type": "markdown",
      "source": [
        "**15. Use NumPy or pandas to summarize a dataset’s descriptive statistics.**"
      ],
      "metadata": {
        "id": "PZrEtLvOByLc"
      }
    },
    {
      "cell_type": "code",
      "source": [
        "#Using Pandas\n",
        "\n",
        "import pandas as pd\n",
        "\n",
        "# Create a sample DataFrame (replace this with your actual dataset)\n",
        "data = {\n",
        "    'A': [1, 2, 3, 4, 5],\n",
        "    'B': [5, 6, 7, 8, 9],\n",
        "    'C': [9, 10, 11, 12, 13]\n",
        "}\n",
        "\n",
        "df = pd.DataFrame(data)\n",
        "\n",
        "# Generate descriptive statistics\n",
        "summary = df.describe()\n",
        "\n",
        "print(summary)"
      ],
      "metadata": {
        "colab": {
          "base_uri": "https://localhost:8080/"
        },
        "id": "BgTlt4LoG_5t",
        "outputId": "4790f9c3-9b62-42f0-fd03-1fe76d2ee38d"
      },
      "execution_count": 22,
      "outputs": [
        {
          "output_type": "stream",
          "name": "stdout",
          "text": [
            "              A         B          C\n",
            "count  5.000000  5.000000   5.000000\n",
            "mean   3.000000  7.000000  11.000000\n",
            "std    1.581139  1.581139   1.581139\n",
            "min    1.000000  5.000000   9.000000\n",
            "25%    2.000000  6.000000  10.000000\n",
            "50%    3.000000  7.000000  11.000000\n",
            "75%    4.000000  8.000000  12.000000\n",
            "max    5.000000  9.000000  13.000000\n"
          ]
        }
      ]
    },
    {
      "cell_type": "code",
      "source": [
        "# Using Numpy\n",
        "\n",
        "import numpy as np\n",
        "\n",
        "# Create a sample dataset (replace with actual data)\n",
        "data = np.array([\n",
        "    [1, 5, 9],\n",
        "    [2, 6, 10],\n",
        "    [3, 7, 11],\n",
        "    [4, 8, 12],\n",
        "    [5, 9, 13]\n",
        "])\n",
        "\n",
        "# Descriptive statistics for each column (axis=0 means column-wise calculation)\n",
        "mean = np.mean(data, axis=0)\n",
        "std_dev = np.std(data, axis=0)\n",
        "min_val = np.min(data, axis=0)\n",
        "max_val = np.max(data, axis=0)\n",
        "median = np.median(data, axis=0)\n",
        "percentile_25 = np.percentile(data, 25, axis=0)\n",
        "percentile_50 = np.percentile(data, 50, axis=0)\n",
        "percentile_75 = np.percentile(data, 75, axis=0)\n",
        "\n",
        "print(\"Mean:\", mean)\n",
        "print(\"Standard Deviation:\", std_dev)\n",
        "print(\"Min:\", min_val)\n",
        "print(\"Max:\", max_val)\n",
        "print(\"Median:\", median)\n",
        "print(\"25th Percentile:\", percentile_25)\n",
        "print(\"50th Percentile:\", percentile_50)\n",
        "print(\"75th Percentile:\", percentile_75)"
      ],
      "metadata": {
        "colab": {
          "base_uri": "https://localhost:8080/"
        },
        "id": "L95amNm-IQMs",
        "outputId": "ccc6878e-d988-40a3-e90e-c5325c48e964"
      },
      "execution_count": 23,
      "outputs": [
        {
          "output_type": "stream",
          "name": "stdout",
          "text": [
            "Mean: [ 3.  7. 11.]\n",
            "Standard Deviation: [1.41421356 1.41421356 1.41421356]\n",
            "Min: [1 5 9]\n",
            "Max: [ 5  9 13]\n",
            "Median: [ 3.  7. 11.]\n",
            "25th Percentile: [ 2.  6. 10.]\n",
            "50th Percentile: [ 3.  7. 11.]\n",
            "75th Percentile: [ 4.  8. 12.]\n"
          ]
        }
      ]
    },
    {
      "cell_type": "markdown",
      "source": [
        "**16. Plot a boxplot to understand the spread and identify outliers.**"
      ],
      "metadata": {
        "id": "PxAdKrELByG6"
      }
    },
    {
      "cell_type": "code",
      "source": [
        "import seaborn as sns\n",
        "import matplotlib.pyplot as plt\n",
        "import pandas as pd\n",
        "\n",
        "# Create a sample DataFrame (replace this with your actual dataset)\n",
        "data = {\n",
        "    'A': [1, 2, 3, 4, 5],\n",
        "    'B': [5, 6, 7, 8, 100],  # Notice an outlier at 100\n",
        "    'C': [9, 10, 11, 12, 13]\n",
        "}\n",
        "\n",
        "df = pd.DataFrame(data)\n",
        "\n",
        "# Create a boxplot using seaborn\n",
        "plt.figure(figsize=(8, 6))  # Adjust the figure size\n",
        "sns.boxplot(data=df)\n",
        "\n",
        "# Display the plot\n",
        "plt.title(\"Boxplot to visualize the spread and outliers\")\n",
        "plt.show()"
      ],
      "metadata": {
        "colab": {
          "base_uri": "https://localhost:8080/",
          "height": 545
        },
        "id": "1DaCnY8qHAO9",
        "outputId": "45c6ee1c-7fa8-4ce6-ad55-2efc8de8bf91"
      },
      "execution_count": 24,
      "outputs": [
        {
          "output_type": "display_data",
          "data": {
            "text/plain": [
              "<Figure size 800x600 with 1 Axes>"
            ],
            "image/png": "[encoded data removed]"
          },
          "metadata": {}
        }
      ]
    },
    {
      "cell_type": "markdown",
      "source": [
        "**17. Calculate the interquartile range (IQR) of a dataset.**"
      ],
      "metadata": {
        "id": "NMtmDIZSByB0"
      }
    },
    {
      "cell_type": "code",
      "source": [
        "# Using Numpy\n",
        "\n",
        "import numpy as np\n",
        "\n",
        "# Create a sample dataset (replace this with your actual data)\n",
        "data = np.array([1, 2, 3, 4, 5, 6, 7, 8, 9, 10])\n",
        "\n",
        "# Calculate the 25th percentile (Q1) and 75th percentile (Q3)\n",
        "Q1 = np.percentile(data, 25)\n",
        "Q3 = np.percentile(data, 75)\n",
        "\n",
        "# Calculate the IQR\n",
        "IQR = Q3 - Q1\n",
        "\n",
        "print(f\"25th Percentile (Q1): {Q1}\")\n",
        "print(f\"75th Percentile (Q3): {Q3}\")\n",
        "print(f\"Interquartile Range (IQR): {IQR}\")"
      ],
      "metadata": {
        "colab": {
          "base_uri": "https://localhost:8080/"
        },
        "id": "GMtMkQUOHAkN",
        "outputId": "fc36fe31-b742-499c-f9de-a4ef30268046"
      },
      "execution_count": 27,
      "outputs": [
        {
          "output_type": "stream",
          "name": "stdout",
          "text": [
            "25th Percentile (Q1): 3.25\n",
            "75th Percentile (Q3): 7.75\n",
            "Interquartile Range (IQR): 4.5\n"
          ]
        }
      ]
    },
    {
      "cell_type": "code",
      "source": [
        "# Using Pandas\n",
        "\n",
        "import pandas as pd\n",
        "\n",
        "# Create a sample DataFrame (replace this with your actual data)\n",
        "data = pd.Series([1, 2, 3, 4, 5, 6, 7, 8, 9, 10])\n",
        "\n",
        "# Calculate the IQR using pandas' quantile method\n",
        "Q1 = data.quantile(0.25)\n",
        "Q3 = data.quantile(0.75)\n",
        "\n",
        "# Calculate the IQR\n",
        "IQR = Q3 - Q1\n",
        "\n",
        "print(f\"25th Percentile (Q1): {Q1}\")\n",
        "print(f\"75th Percentile (Q3): {Q3}\")\n",
        "print(f\"Interquartile Range (IQR): {IQR}\")"
      ],
      "metadata": {
        "colab": {
          "base_uri": "https://localhost:8080/"
        },
        "id": "daN2Wo6sIjbb",
        "outputId": "5dc00963-42b6-4680-b5fa-9e9468e306dc"
      },
      "execution_count": 28,
      "outputs": [
        {
          "output_type": "stream",
          "name": "stdout",
          "text": [
            "25th Percentile (Q1): 3.25\n",
            "75th Percentile (Q3): 7.75\n",
            "Interquartile Range (IQR): 4.5\n"
          ]
        }
      ]
    },
    {
      "cell_type": "markdown",
      "source": [
        "**18. Implement Z-score normalization and explain its significance.**"
      ],
      "metadata": {
        "id": "v99b0NfRBx8l"
      }
    },
    {
      "cell_type": "markdown",
      "source": [
        "- Z-score normalization (also known as **Standardization*) is a technique used to scale and center data by transforming it such that it has a **mean** of **0** and a **standard deviation** of **1**. This process is useful when we want to compare features that have different units or scales (e.g., height in cm vs weight in kg).\n",
        "\n",
        "- The Z-score for a data point $x_i$ is calculated as :\n",
        "\n",
        "$$\n",
        "z_i = \\frac{x_i - \\mu}{\\sigma}\n",
        "$$\n",
        "\n",
        "where :\n",
        "\n",
        "* $x_i$ is a data point in the dataset.\n",
        "\n",
        "* $\\mu$ is the mean of the dataset.\n",
        "\n",
        "* $\\sigma$ is the standard deviation of the dataset.\n",
        "\n",
        "- **Significance of Z-score Normalization :**\n",
        "\n",
        " - **Makes data comparable :** Z-score normalization allows data with different units or scales to be compared more easily. For instance, comparing \"age\" and \"income\" without normalization could lead to skewed analyses due to their differing units and ranges.\n",
        "\n",
        " - **Improves performance of algorithms :** Many machine learning algorithms (like k-nearest neighbors, gradient descent-based algorithms, and support vector machines) perform better or converge faster when the data is normalized.\n",
        "\n",
        " - **Outlier detection :** Z-scores also help in identifying outliers. A data point with a Z-score greater than 3 or less than -3 is typically considered an outlier.\n",
        "\n",
        "- **Steps for Z-score Normalization :**\n",
        "\n",
        " - Calculate the **mean** ($\\mu$) and **standard deviation** ($\\sigma$) of the dataset.\n",
        "\n",
        " - For each data point, subtract the mean and divide by the standard deviation to get the Z-score."
      ],
      "metadata": {
        "id": "BCFRuivVJBjP"
      }
    },
    {
      "cell_type": "code",
      "source": [
        "# Example of Z-score Normalization using Python :\n",
        "\n",
        "# Using NumPy:\n",
        "\n",
        "import numpy as np\n",
        "\n",
        "# Sample data (replace with your dataset)\n",
        "data = np.array([10, 20, 30, 40, 50])\n",
        "\n",
        "# Calculate the mean and standard deviation\n",
        "mean = np.mean(data)\n",
        "std_dev = np.std(data)\n",
        "\n",
        "# Apply Z-score normalization\n",
        "z_scores = (data - mean) / std_dev\n",
        "\n",
        "print(\"Data:\", data)\n",
        "print(\"Z-scores:\", z_scores)"
      ],
      "metadata": {
        "colab": {
          "base_uri": "https://localhost:8080/"
        },
        "id": "ZiIkVIVlHBDt",
        "outputId": "dff1fc23-4deb-449f-b939-6fa2b3e370fb"
      },
      "execution_count": 29,
      "outputs": [
        {
          "output_type": "stream",
          "name": "stdout",
          "text": [
            "Data: [10 20 30 40 50]\n",
            "Z-scores: [-1.41421356 -0.70710678  0.          0.70710678  1.41421356]\n"
          ]
        }
      ]
    },
    {
      "cell_type": "code",
      "source": [
        "# Using Pandas :\n",
        "\n",
        "import pandas as pd\n",
        "\n",
        "# Sample data (replace with your dataset)\n",
        "data = pd.Series([10, 20, 30, 40, 50])\n",
        "\n",
        "# Apply Z-score normalization\n",
        "z_scores = (data - data.mean()) / data.std()\n",
        "\n",
        "print(\"Data:\", data.values)\n",
        "print(\"Z-scores:\", z_scores.values)\n"
      ],
      "metadata": {
        "colab": {
          "base_uri": "https://localhost:8080/"
        },
        "id": "tTqbnGKAJ2UP",
        "outputId": "2b0520f7-03dc-4edc-af4a-b892ec967d06"
      },
      "execution_count": 30,
      "outputs": [
        {
          "output_type": "stream",
          "name": "stdout",
          "text": [
            "Data: [10 20 30 40 50]\n",
            "Z-scores: [-1.26491106 -0.63245553  0.          0.63245553  1.26491106]\n"
          ]
        }
      ]
    },
    {
      "cell_type": "markdown",
      "source": [
        "**19. Compare two datasets using their standard deviations.**"
      ],
      "metadata": {
        "id": "kSlUS86lBx30"
      }
    },
    {
      "cell_type": "code",
      "source": [
        "# We will use NumPy to calculate the standard deviation of two datasets and compare them.\n",
        "\n",
        "import numpy as np\n",
        "\n",
        "# Dataset 1\n",
        "data1 = np.array([10, 12, 15, 14, 13, 11, 16, 17, 18])\n",
        "\n",
        "# Dataset 2\n",
        "data2 = np.array([30, 35, 25, 32, 31, 33, 29, 38, 41])\n",
        "\n",
        "# Calculate the standard deviations\n",
        "std_dev1 = np.std(data1)\n",
        "std_dev2 = np.std(data2)\n",
        "\n",
        "# Display the standard deviations\n",
        "print(f\"Standard Deviation of Dataset 1: {std_dev1}\")\n",
        "print(f\"Standard Deviation of Dataset 2: {std_dev2}\")\n",
        "\n",
        "# Compare the two standard deviations\n",
        "if std_dev1 > std_dev2:\n",
        "    print(\"Dataset 1 has more variability.\")\n",
        "elif std_dev1 < std_dev2:\n",
        "    print(\"Dataset 2 has more variability.\")\n",
        "else:\n",
        "    print(\"Both datasets have similar variability.\")\n",
        "\n",
        "\n",
        "#Visualizing the Comparison\n",
        "\n",
        "import matplotlib.pyplot as plt\n",
        "import seaborn as sns\n",
        "\n",
        "# Create a DataFrame for visualization\n",
        "import pandas as pd\n",
        "df = pd.DataFrame({'Dataset 1': data1, 'Dataset 2': data2})\n",
        "\n",
        "# Plotting boxplot to compare the spread and variability\n",
        "plt.figure(figsize=(8, 6))\n",
        "sns.boxplot(data=df)\n",
        "plt.title(\"Comparison of Datasets 1 and 2\")\n",
        "plt.show()"
      ],
      "metadata": {
        "colab": {
          "base_uri": "https://localhost:8080/",
          "height": 598
        },
        "id": "bc8d9zlGHBf1",
        "outputId": "9d2f1da7-9aa7-4504-b26c-ebfa47a36567"
      },
      "execution_count": 31,
      "outputs": [
        {
          "output_type": "stream",
          "name": "stdout",
          "text": [
            "Standard Deviation of Dataset 1: 2.581988897471611\n",
            "Standard Deviation of Dataset 2: 4.546060565661952\n",
            "Dataset 2 has more variability.\n"
          ]
        },
        {
          "output_type": "display_data",
          "data": {
            "text/plain": [
              "<Figure size 800x600 with 1 Axes>"
            ],
            "image/png": "[encoded data removed]"
          },
          "metadata": {}
        }
      ]
    },
    {
      "cell_type": "markdown",
      "source": [
        "**20. Write a Python program to visualize covariance using a heatmap.**"
      ],
      "metadata": {
        "id": "bF5FA7xTBxyz"
      }
    },
    {
      "cell_type": "code",
      "source": [
        "import seaborn as sns\n",
        "import matplotlib.pyplot as plt\n",
        "import pandas as pd\n",
        "import numpy as np\n",
        "\n",
        "# Sample data (replace with your actual dataset)\n",
        "data = {\n",
        "    'A': [1, 2, 3, 4, 5],\n",
        "    'B': [5, 6, 7, 8, 9],\n",
        "    'C': [9, 10, 11, 12, 13],\n",
        "    'D': [14, 15, 16, 17, 18]\n",
        "}\n",
        "\n",
        "# Create a DataFrame\n",
        "df = pd.DataFrame(data)\n",
        "\n",
        "# Calculate the covariance matrix\n",
        "cov_matrix = df.cov()\n",
        "\n",
        "# Plot the covariance matrix as a heatmap\n",
        "plt.figure(figsize=(8, 6))\n",
        "sns.heatmap(cov_matrix, annot=True, cmap='coolwarm', fmt='.2f', cbar=True)\n",
        "plt.title(\"Covariance Matrix Heatmap\")\n",
        "plt.show()"
      ],
      "metadata": {
        "colab": {
          "base_uri": "https://localhost:8080/",
          "height": 545
        },
        "id": "PtSklDi1HCHs",
        "outputId": "6ac867c5-8b4c-4258-ae9d-3460b8b8df81"
      },
      "execution_count": 32,
      "outputs": [
        {
          "output_type": "display_data",
          "data": {
            "text/plain": [
              "<Figure size 800x600 with 2 Axes>"
            ],
            "image/png": "[encoded data removed]"
          },
          "metadata": {}
        }
      ]
    },
    {
      "cell_type": "markdown",
      "source": [
        "**21. Use seaborn to create a correlation matrix for a dataset.**"
      ],
      "metadata": {
        "id": "zy6j7L8HBxrD"
      }
    },
    {
      "cell_type": "code",
      "source": [
        "# Python Program to Create a Correlation Matrix\n",
        "\n",
        "import seaborn as sns\n",
        "import matplotlib.pyplot as plt\n",
        "import pandas as pd\n",
        "\n",
        "# Sample data (replace with your actual dataset)\n",
        "data = {\n",
        "    'A': [1, 2, 3, 4, 5],\n",
        "    'B': [5, 6, 7, 8, 9],\n",
        "    'C': [9, 10, 11, 12, 13],\n",
        "    'D': [14, 15, 16, 17, 18]\n",
        "}\n",
        "\n",
        "# Create a DataFrame\n",
        "df = pd.DataFrame(data)\n",
        "\n",
        "# Calculate the correlation matrix\n",
        "correlation_matrix = df.corr()\n",
        "\n",
        "# Plot the correlation matrix as a heatmap\n",
        "plt.figure(figsize=(8, 6))\n",
        "sns.heatmap(correlation_matrix, annot=True, cmap='coolwarm', fmt='.2f', cbar=True)\n",
        "plt.title(\"Correlation Matrix Heatmap\")\n",
        "plt.show()\n",
        "\n",
        "\n",
        "\n",
        "# Customization\n",
        "# Mask the upper triangle\n",
        "mask = np.triu(np.ones_like(correlation_matrix, dtype=bool))\n",
        "\n",
        "# Plot the masked heatmap\n",
        "plt.figure(figsize=(8, 6))\n",
        "sns.heatmap(correlation_matrix, annot=True, cmap='coolwarm', fmt='.2f', cbar=True, mask=mask)\n",
        "plt.title(\"Correlation Matrix Heatmap (Masked)\")\n",
        "plt.show()"
      ],
      "metadata": {
        "colab": {
          "base_uri": "https://localhost:8080/",
          "height": 1000
        },
        "id": "Cs4SaEk0HCg0",
        "outputId": "5fa454f3-6264-4861-abb9-3ec001324df3"
      },
      "execution_count": 33,
      "outputs": [
        {
          "output_type": "display_data",
          "data": {
            "text/plain": [
              "<Figure size 800x600 with 2 Axes>"
            ],
            "image/png": "[encoded data removed]"
          },
          "metadata": {}
        },
        {
          "output_type": "display_data",
          "data": {
            "text/plain": [
              "<Figure size 800x600 with 2 Axes>"
            ],
            "image/png": "[encoded data removed]"
          },
          "metadata": {}
        }
      ]
    },
    {
      "cell_type": "markdown",
      "source": [
        "**22. Generate a dataset and implement both variance and standard deviation computations.**"
      ],
      "metadata": {
        "id": "3RVezeb3Bxiq"
      }
    },
    {
      "cell_type": "code",
      "source": [
        "import numpy as np\n",
        "\n",
        "# Generate a random dataset of 100 values from a normal distribution\n",
        "np.random.seed(0)  # Set seed for reproducibility\n",
        "data = np.random.randn(100)  # 100 random numbers from a standard normal distribution\n",
        "\n",
        "# Compute the variance\n",
        "variance = np.var(data)\n",
        "\n",
        "# Compute the standard deviation\n",
        "std_deviation = np.std(data)\n",
        "\n",
        "# Output the results\n",
        "print(f\"Variance: {variance:.2f}\")\n",
        "print(f\"Standard Deviation: {std_deviation:.2f}\")"
      ],
      "metadata": {
        "colab": {
          "base_uri": "https://localhost:8080/"
        },
        "id": "Gnkzf6dHHC4E",
        "outputId": "f5dd10dd-2c98-4d22-b6dd-e1b24fbb6a88"
      },
      "execution_count": 34,
      "outputs": [
        {
          "output_type": "stream",
          "name": "stdout",
          "text": [
            "Variance: 1.02\n",
            "Standard Deviation: 1.01\n"
          ]
        }
      ]
    },
    {
      "cell_type": "markdown",
      "source": [
        "**23. Visualize skewness and kurtosis using Python libraries like matplotlib or seaborn.**"
      ],
      "metadata": {
        "id": "gBn7Xt8gtXdg"
      }
    },
    {
      "cell_type": "code",
      "source": [
        "import numpy as np\n",
        "import seaborn as sns\n",
        "import matplotlib.pyplot as plt\n",
        "from scipy.stats import skew, kurtosis\n",
        "\n",
        "# Set random seed for reproducibility\n",
        "np.random.seed(42)\n",
        "\n",
        "# Generate different types of datasets\n",
        "\n",
        "# Normal distribution (skewness = 0, kurtosis ~ 3)\n",
        "normal_data = np.random.normal(loc=0, scale=1, size=1000)\n",
        "\n",
        "# Right-skewed distribution\n",
        "right_skewed_data = np.random.gamma(shape=2, scale=2, size=1000)\n",
        "\n",
        "# Heavy-tailed (high kurtosis) distribution (Laplace)\n",
        "heavy_tailed_data = np.random.laplace(loc=0, scale=1, size=1000)\n",
        "\n",
        "# Compute skewness and kurtosis\n",
        "normal_skewness = skew(normal_data)\n",
        "normal_kurtosis = kurtosis(normal_data)\n",
        "\n",
        "right_skewed_skewness = skew(right_skewed_data)\n",
        "right_skewed_kurtosis = kurtosis(right_skewed_data)\n",
        "\n",
        "heavy_tailed_skewness = skew(heavy_tailed_data)\n",
        "heavy_tailed_kurtosis = kurtosis(heavy_tailed_data)\n",
        "\n",
        "# Print skewness and kurtosis values\n",
        "print(f\"Normal Distribution - Skewness: {normal_skewness:.2f}, Kurtosis: {normal_kurtosis:.2f}\")\n",
        "print(f\"Right-skewed Distribution - Skewness: {right_skewed_skewness:.2f}, Kurtosis: {right_skewed_kurtosis:.2f}\")\n",
        "print(f\"Heavy-tailed Distribution - Skewness: {heavy_tailed_skewness:.2f}, Kurtosis: {heavy_tailed_kurtosis:.2f}\")\n",
        "\n",
        "# Set up the plot\n",
        "plt.figure(figsize=(12, 8))\n",
        "\n",
        "# Plot Normal distribution\n",
        "plt.subplot(3, 1, 1)\n",
        "sns.histplot(normal_data, kde=True, color='skyblue')\n",
        "plt.title(f\"Normal Distribution (Skewness: {normal_skewness:.2f}, Kurtosis: {normal_kurtosis:.2f})\")\n",
        "\n",
        "# Plot Right-skewed distribution\n",
        "plt.subplot(3, 1, 2)\n",
        "sns.histplot(right_skewed_data, kde=True, color='salmon')\n",
        "plt.title(f\"Right-skewed Distribution (Skewness: {right_skewed_skewness:.2f}, Kurtosis: {right_skewed_kurtosis:.2f})\")\n",
        "\n",
        "# Plot Heavy-tailed distribution\n",
        "plt.subplot(3, 1, 3)\n",
        "sns.histplot(heavy_tailed_data, kde=True, color='green')\n",
        "plt.title(f\"Heavy-tailed Distribution (Skewness: {heavy_tailed_skewness:.2f}, Kurtosis: {heavy_tailed_kurtosis:.2f})\")\n",
        "\n",
        "# Show the plot\n",
        "plt.tight_layout()\n",
        "plt.show()"
      ],
      "metadata": {
        "colab": {
          "base_uri": "https://localhost:8080/",
          "height": 572
        },
        "id": "ipssiiFyHDQ1",
        "outputId": "4a35570d-25f9-413d-ece3-18e4e38e0582"
      },
      "execution_count": 35,
      "outputs": [
        {
          "output_type": "stream",
          "name": "stdout",
          "text": [
            "Normal Distribution - Skewness: 0.12, Kurtosis: 0.07\n",
            "Right-skewed Distribution - Skewness: 1.23, Kurtosis: 1.88\n",
            "Heavy-tailed Distribution - Skewness: -0.21, Kurtosis: 4.27\n"
          ]
        },
        {
          "output_type": "display_data",
          "data": {
            "text/plain": [
              "<Figure size 1200x800 with 3 Axes>"
            ],
            "image/png": "[encoded data removed]"
          },
          "metadata": {}
        }
      ]
    },
    {
      "cell_type": "markdown",
      "source": [
        "**24. Implement the Pearson and Spearman correlation coefficients for a dataset.**"
      ],
      "metadata": {
        "id": "dxak1NEQBvVS"
      }
    },
    {
      "cell_type": "code",
      "source": [
        "import numpy as np\n",
        "import pandas as pd\n",
        "from scipy.stats import pearsonr, spearmanr\n",
        "import seaborn as sns\n",
        "import matplotlib.pyplot as plt\n",
        "\n",
        "# Generate a sample dataset\n",
        "np.random.seed(42)\n",
        "data = {\n",
        "    'X': np.random.normal(0, 1, 100),  # Random data for X\n",
        "    'Y': np.random.normal(0, 1, 100),  # Random data for Y\n",
        "    'Z': np.random.normal(0, 1, 100),  # Random data for Z\n",
        "}\n",
        "\n",
        "df = pd.DataFrame(data)\n",
        "\n",
        "# Compute the Pearson correlation coefficient\n",
        "pearson_corr, _ = pearsonr(df['X'], df['Y'])\n",
        "\n",
        "# Compute the Spearman correlation coefficient\n",
        "spearman_corr, _ = spearmanr(df['X'], df['Y'])\n",
        "\n",
        "# Output the correlation results\n",
        "print(f\"Pearson Correlation between X and Y: {pearson_corr:.2f}\")\n",
        "print(f\"Spearman Correlation between X and Y: {spearman_corr:.2f}\")\n",
        "\n",
        "# Visualize the relationship using a scatter plot\n",
        "plt.figure(figsize=(8, 6))\n",
        "sns.scatterplot(x='X', y='Y', data=df, color='blue')\n",
        "plt.title(f\"Scatter Plot of X vs Y\\nPearson: {pearson_corr:.2f}, Spearman: {spearman_corr:.2f}\")\n",
        "plt.xlabel('X')\n",
        "plt.ylabel('Y')\n",
        "plt.show()"
      ],
      "metadata": {
        "id": "tkgBFR1H5dZV",
        "colab": {
          "base_uri": "https://localhost:8080/",
          "height": 621
        },
        "outputId": "f44e3b25-894e-4998-de87-4098a3a28c9e"
      },
      "execution_count": 36,
      "outputs": [
        {
          "output_type": "stream",
          "name": "stdout",
          "text": [
            "Pearson Correlation between X and Y: -0.14\n",
            "Spearman Correlation between X and Y: -0.11\n"
          ]
        },
        {
          "output_type": "display_data",
          "data": {
            "text/plain": [
              "<Figure size 800x600 with 1 Axes>"
            ],
            "image/png": "[encoded data removed]"
          },
          "metadata": {}
        }
      ]
    }
  ]
}